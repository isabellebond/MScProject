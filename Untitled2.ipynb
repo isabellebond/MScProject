{
 "cells": [
  {
   "cell_type": "code",
   "execution_count": 8,
   "id": "7707ef6a",
   "metadata": {},
   "outputs": [],
   "source": [
    "import pandas as pd\n",
    "import os\n",
    "import numpy as np\n",
    "import src.samplingFuncs as sm\n",
    "import src.vulnerabilityFuncs as vf"
   ]
  },
  {
   "cell_type": "code",
   "execution_count": 9,
   "id": "7549317e",
   "metadata": {},
   "outputs": [],
   "source": [
    "_projroot = os.path.abspath('.')\n",
    "_datadir = os.path.join(_projroot, 'data')\n",
    "_preprocesseddir = os.path.join(_datadir, 'preprocesseddata')\n",
    "_experimentdir = os.path.join(_datadir, 'experiments')\n",
    "_rawdir = os.path.join(_datadir, 'rawdata')\n",
    "_src = os.path.join(_projroot,'src')\n",
    "_sampling = os.path.join(_experimentdir,'sampling')\n",
    "\n",
    "vulnerability = os.path.join(_experimentdir,'vulnerability')\n",
    "combsampling = os.path.join(_sampling,'combsampling')"
   ]
  },
  {
   "cell_type": "code",
   "execution_count": 10,
   "id": "e8839476",
   "metadata": {},
   "outputs": [
    {
     "name": "stdout",
     "output_type": "stream",
     "text": [
      "                                                    train_test_split  \\\n",
      "Q4_Asian or Asian British - Pakistani                            0.0   \n",
      "Q22_Owns Outright                                                0.0   \n",
      "Q22_Rents A Room In A Shared Property                            0.0   \n",
      "Financial Worry                                                  0.0   \n",
      "Q4_Black or Black British - Any other black bac...               0.0   \n",
      "...                                                              ...   \n",
      "Information about public services                                0.0   \n",
      "Q22_Part Owns And Part Rents (shared Ownership)                  0.0   \n",
      "Q34                                                              0.0   \n",
      "Q25                                                              0.0   \n",
      "AGE                                                              0.0   \n",
      "\n",
      "                                                    Smote_NC_2  NearMiss  \\\n",
      "Q4_Asian or Asian British - Pakistani                 2.131899  0.121236   \n",
      "Q22_Owns Outright                                     0.528620  0.150216   \n",
      "Q22_Rents A Room In A Shared Property                 0.690295  0.094167   \n",
      "Financial Worry                                      -0.326221  0.125035   \n",
      "Q4_Black or Black British - Any other black bac...   -0.942433  0.000000   \n",
      "...                                                        ...       ...   \n",
      "Information about public services                    -2.870398 -0.284154   \n",
      "Q22_Part Owns And Part Rents (shared Ownership)      -0.096736  0.059572   \n",
      "Q34                                                   0.325528  0.150031   \n",
      "Q25                                                   0.438367 -0.033375   \n",
      "AGE                                                   1.545572  0.218860   \n",
      "\n",
      "                                                    Smote_CC_4_8  \n",
      "Q4_Asian or Asian British - Pakistani                   0.120898  \n",
      "Q22_Owns Outright                                       0.369764  \n",
      "Q22_Rents A Room In A Shared Property                  -0.035858  \n",
      "Financial Worry                                        -0.843916  \n",
      "Q4_Black or Black British - Any other black bac...      0.301391  \n",
      "...                                                          ...  \n",
      "Information about public services                      -1.804725  \n",
      "Q22_Part Owns And Part Rents (shared Ownership)        -0.232149  \n",
      "Q34                                                     0.500702  \n",
      "Q25                                                     1.169309  \n",
      "AGE                                                     1.050124  \n",
      "\n",
      "[68 rows x 4 columns]\n"
     ]
    }
   ],
   "source": [
    "WCC_total = vf.Tuning()\n",
    "WCC_total.read_file(combsampling, 'combsampling', sheetname = ['train_test_split','Smote_NC_2','NearMiss', 'Smote_CC_4_8'])\n",
    "WCC_total.elastic_regression()\n",
    "WCC_total.save_coefficients(vulnerability, 'test')"
   ]
  },
  {
   "cell_type": "code",
   "execution_count": 11,
   "id": "41189982",
   "metadata": {},
   "outputs": [
    {
     "ename": "AttributeError",
     "evalue": "'Tuning' object has no attribute 'find_variance'",
     "output_type": "error",
     "traceback": [
      "\u001b[0;31m---------------------------------------------------------------------------\u001b[0m",
      "\u001b[0;31mAttributeError\u001b[0m                            Traceback (most recent call last)",
      "\u001b[0;32m<ipython-input-11-80710716c9cb>\u001b[0m in \u001b[0;36m<module>\u001b[0;34m\u001b[0m\n\u001b[0;32m----> 1\u001b[0;31m \u001b[0mWCC_total\u001b[0m\u001b[0;34m.\u001b[0m\u001b[0mfind_variance\u001b[0m\u001b[0;34m(\u001b[0m\u001b[0;34m)\u001b[0m\u001b[0;34m\u001b[0m\u001b[0;34m\u001b[0m\u001b[0m\n\u001b[0m",
      "\u001b[0;31mAttributeError\u001b[0m: 'Tuning' object has no attribute 'find_variance'"
     ]
    }
   ],
   "source": [
    "WCC_total.find_variance()"
   ]
  },
  {
   "cell_type": "code",
   "execution_count": null,
   "id": "d7960611",
   "metadata": {},
   "outputs": [],
   "source": []
  }
 ],
 "metadata": {
  "kernelspec": {
   "display_name": "Python 3",
   "language": "python",
   "name": "python3"
  },
  "language_info": {
   "codemirror_mode": {
    "name": "ipython",
    "version": 3
   },
   "file_extension": ".py",
   "mimetype": "text/x-python",
   "name": "python",
   "nbconvert_exporter": "python",
   "pygments_lexer": "ipython3",
   "version": "3.8.8"
  }
 },
 "nbformat": 4,
 "nbformat_minor": 5
}
