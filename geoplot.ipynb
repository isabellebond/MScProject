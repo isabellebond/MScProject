{
 "cells": [
  {
   "cell_type": "code",
   "execution_count": 1,
   "id": "cd328c05",
   "metadata": {},
   "outputs": [],
   "source": [
    "import pandas as pd\n",
    "import numpy as np\n",
    "import geopandas as gpd\n",
    "import matplotlib.pyplot as plt\n",
    "import os\n",
    "from sklearn.experimental import enable_iterative_imputer\n",
    "from sklearn.impute import IterativeImputer\n",
    "from kmodes.kmodes import KModes\n",
    "from openpyxl import Workbook"
   ]
  },
  {
   "cell_type": "code",
   "execution_count": 2,
   "id": "be5714f3",
   "metadata": {},
   "outputs": [],
   "source": [
    "#Initialise repositories\n",
    "_projroot = os.path.abspath('.')\n",
    "_datadir = os.path.join(_projroot, 'data')\n",
    "_preprocesseddir = os.path.join(_datadir, 'preprocesseddata')\n",
    "_experimentdir = os.path.join(_datadir, 'experiments')\n",
    "_rawdir = os.path.join(_datadir, 'rawdata')\n",
    "_src = os.path.join(_projroot,'src')\n",
    "_sampling = os.path.join(_experimentdir,'sampling')\n",
    "_geodata = os.path.join(_datadir,'geodata')"
   ]
  },
  {
   "cell_type": "code",
   "execution_count": 3,
   "id": "21eb12ee",
   "metadata": {},
   "outputs": [],
   "source": [
    "df_places = gpd.read_file(os.path.join(_geodata, 'Output_Areas.geojson'))"
   ]
  },
  {
   "cell_type": "code",
   "execution_count": null,
   "id": "25e4eeab",
   "metadata": {},
   "outputs": [],
   "source": []
  },
  {
   "cell_type": "code",
   "execution_count": null,
   "id": "33e6a0e1",
   "metadata": {},
   "outputs": [],
   "source": []
  },
  {
   "cell_type": "code",
   "execution_count": 4,
   "id": "06c2899e",
   "metadata": {},
   "outputs": [
    {
     "name": "stdout",
     "output_type": "stream",
     "text": [
      "      Unnamed: 0 Postcode PC_Area  Target  Population aged 65+  \\\n",
      "0              0   NW14HB      NW       0                    4   \n",
      "1              1   NW14LJ      NW       0                    7   \n",
      "2              2   NW14NR      NW       1                    0   \n",
      "3              3   NW14NT      NW       1                    0   \n",
      "4              4   NW14NX      NW       1                    0   \n",
      "...          ...      ...     ...     ...                  ...   \n",
      "7850        7850  WC2R1BF      WC       0                    0   \n",
      "7851        7851  WC2R3AA      WC       0                    0   \n",
      "7852        7852  WC2R3AT      WC       0                    1   \n",
      "7853        7853  WC2R3JE      WC       0                    0   \n",
      "7854        7854  SW1X9HF      SW       1                    3   \n",
      "\n",
      "      Females aged 65-69  Females aged 65+  Females aged 70-74  \\\n",
      "0                      0                 3                   1   \n",
      "1                      1                 4                   1   \n",
      "2                      0                 0                   0   \n",
      "3                      0                 0                   0   \n",
      "4                      0                 0                   0   \n",
      "...                  ...               ...                 ...   \n",
      "7850                   0                 0                   0   \n",
      "7851                   0                 0                   0   \n",
      "7852                   1                 1                   0   \n",
      "7853                   0                 0                   0   \n",
      "7854                   1                 3                   1   \n",
      "\n",
      "      Females aged 75-79  Females aged 80-84  ...  Females aged under 25  \\\n",
      "0                      1                   1  ...                      1   \n",
      "1                      1                   1  ...                      3   \n",
      "2                      0                   0  ...                      0   \n",
      "3                      0                   0  ...                      0   \n",
      "4                      0                   0  ...                      0   \n",
      "...                  ...                 ...  ...                    ...   \n",
      "7850                   0                   0  ...                      0   \n",
      "7851                   0                   0  ...                      0   \n",
      "7852                   0                   0  ...                      1   \n",
      "7853                   0                   0  ...                      0   \n",
      "7854                   0                   0  ...                      2   \n",
      "\n",
      "      Females aged 25-44  Females aged 45-65  Males aged under 25  \\\n",
      "0                      4                   3                    3   \n",
      "1                      6                   3                    3   \n",
      "2                      1                   1                    0   \n",
      "3                      1                   1                    0   \n",
      "4                      2                   2                    0   \n",
      "...                  ...                 ...                  ...   \n",
      "7850                   0                   0                    0   \n",
      "7851                   0                   0                    0   \n",
      "7852                   4                   3                    2   \n",
      "7853                   0                   0                    0   \n",
      "7854                   2                   3                    2   \n",
      "\n",
      "      Males aged 25-44  Males aged 45-65  Mean Income  Median Income  \\\n",
      "0                    4                 4      77800.0    70921.05263   \n",
      "1                    5                 4      89400.0    82946.42857   \n",
      "2                    0                 2      88200.0    82142.85714   \n",
      "3                    1                 0      82900.0    75625.00000   \n",
      "4                    2                 2      40300.0    35735.29412   \n",
      "...                ...               ...          ...            ...   \n",
      "7850                 0                 2      32900.0    28636.36364   \n",
      "7851                 0                 1      69200.0    61666.66667   \n",
      "7852                 3                 3      37400.0    32356.32184   \n",
      "7853                 0                 1      81800.0    74000.00000   \n",
      "7854                 5                 2      70100.0    62974.68354   \n",
      "\n",
      "      Mode Income  Lower Quartile  \n",
      "0          110000     47441.86047  \n",
      "1          110000     57727.27273  \n",
      "2          110000     58000.00000  \n",
      "3          110000     49500.00000  \n",
      "4           22500     22875.00000  \n",
      "...           ...             ...  \n",
      "7850        17500     18461.53846  \n",
      "7851       110000     40833.33333  \n",
      "7852        22500     20400.00000  \n",
      "7853       110000     49000.00000  \n",
      "7854       110000     41312.50000  \n",
      "\n",
      "[7855 rows x 33 columns]\n"
     ]
    }
   ],
   "source": [
    "Ofcom = pd.read_csv(os.path.join(_preprocesseddir,'Ofcom_Combine.csv'))\n",
    "Ofcom['Postcode'].astype(str)\n",
    "print(Ofcom)"
   ]
  },
  {
   "cell_type": "code",
   "execution_count": 5,
   "id": "fb7306e2",
   "metadata": {},
   "outputs": [
    {
     "data": {
      "text/plain": [
       "0        NW13AU\n",
       "1        NW14HB\n",
       "2        NW14LJ\n",
       "3        NW14LL\n",
       "4        NW14NR\n",
       "         ...   \n",
       "7850    WC2R3DX\n",
       "7851    WC2R3JE\n",
       "7852    WC2R3JJ\n",
       "7853    WC2R3LD\n",
       "7854    WC2R3LL\n",
       "Name: Postcode, Length: 7855, dtype: object"
      ]
     },
     "execution_count": 5,
     "metadata": {},
     "output_type": "execute_result"
    }
   ],
   "source": [
    "Postcode_OA = pd.read_csv(os.path.join(_geodata,'postcode_OA.csv'))\n",
    "Postcode_OA['Postcode'].astype(str)"
   ]
  },
  {
   "cell_type": "code",
   "execution_count": 6,
   "id": "b09735a1",
   "metadata": {},
   "outputs": [],
   "source": [
    "Ofcom = Ofcom.merge(Postcode_OA, on=['Postcode'], how = 'outer')"
   ]
  },
  {
   "cell_type": "code",
   "execution_count": 7,
   "id": "1c48334e",
   "metadata": {},
   "outputs": [
    {
     "name": "stdout",
     "output_type": "stream",
     "text": [
      "      Population aged 65+  Females aged 65-69  Females aged 65+  \\\n",
      "0                       4                   0                 3   \n",
      "1                       7                   1                 4   \n",
      "2                       0                   0                 0   \n",
      "3                       0                   0                 0   \n",
      "4                       0                   0                 0   \n",
      "...                   ...                 ...               ...   \n",
      "7850                    0                   0                 0   \n",
      "7851                    0                   0                 0   \n",
      "7852                    1                   1                 1   \n",
      "7853                    0                   0                 0   \n",
      "7854                    3                   1                 3   \n",
      "\n",
      "      Females aged 70-74  Females aged 75-79  Females aged 80-84  \\\n",
      "0                      1                   1                   1   \n",
      "1                      1                   1                   1   \n",
      "2                      0                   0                   0   \n",
      "3                      0                   0                   0   \n",
      "4                      0                   0                   0   \n",
      "...                  ...                 ...                 ...   \n",
      "7850                   0                   0                   0   \n",
      "7851                   0                   0                   0   \n",
      "7852                   0                   0                   0   \n",
      "7853                   0                   0                   0   \n",
      "7854                   1                   0                   0   \n",
      "\n",
      "      Females aged 85-89  Females aged 90-94  Females aged 95_99  \\\n",
      "0                      0                   0                   0   \n",
      "1                      0                   0                   0   \n",
      "2                      0                   0                   0   \n",
      "3                      0                   0                   0   \n",
      "4                      0                   0                   0   \n",
      "...                  ...                 ...                 ...   \n",
      "7850                   0                   0                   0   \n",
      "7851                   0                   0                   0   \n",
      "7852                   0                   0                   0   \n",
      "7853                   0                   0                   0   \n",
      "7854                   1                   0                   0   \n",
      "\n",
      "      Females aged 100+  ...  Females aged 25-44  Females aged 45-65  \\\n",
      "0                     0  ...                   4                   3   \n",
      "1                     0  ...                   6                   3   \n",
      "2                     0  ...                   1                   1   \n",
      "3                     0  ...                   1                   1   \n",
      "4                     0  ...                   2                   2   \n",
      "...                 ...  ...                 ...                 ...   \n",
      "7850                  0  ...                   0                   0   \n",
      "7851                  0  ...                   0                   0   \n",
      "7852                  0  ...                   4                   3   \n",
      "7853                  0  ...                   0                   0   \n",
      "7854                  0  ...                   2                   3   \n",
      "\n",
      "      Males aged under 25  Males aged 25-44  Males aged 45-65  Mean Income  \\\n",
      "0                       3                 4                 4      77800.0   \n",
      "1                       3                 5                 4      89400.0   \n",
      "2                       0                 0                 2      88200.0   \n",
      "3                       0                 1                 0      82900.0   \n",
      "4                       0                 2                 2      40300.0   \n",
      "...                   ...               ...               ...          ...   \n",
      "7850                    0                 0                 2      32900.0   \n",
      "7851                    0                 0                 1      69200.0   \n",
      "7852                    2                 3                 3      37400.0   \n",
      "7853                    0                 0                 1      81800.0   \n",
      "7854                    2                 5                 2      70100.0   \n",
      "\n",
      "      Median Income  Mode Income  Lower Quartile     OA11CD  \n",
      "0       70921.05263       110000     47441.86047  E00023919  \n",
      "1       82946.42857       110000     57727.27273  E00023816  \n",
      "2       82142.85714       110000     58000.00000  E00023919  \n",
      "3       75625.00000       110000     49500.00000  E00023919  \n",
      "4       35735.29412        22500     22875.00000  E00023919  \n",
      "...             ...          ...             ...        ...  \n",
      "7850    28636.36364        17500     18461.53846  E00023930  \n",
      "7851    61666.66667       110000     40833.33333  E00023930  \n",
      "7852    32356.32184        22500     20400.00000  E00023930  \n",
      "7853    74000.00000       110000     49000.00000  E00023930  \n",
      "7854    62974.68354       110000     41312.50000  E00023674  \n",
      "\n",
      "[7855 rows x 30 columns]\n"
     ]
    }
   ],
   "source": [
    "Ofcom = Ofcom.drop(['Unnamed: 0_x','Unnamed: 0_y', 'Postcode', 'PC_Area', 'Target'], axis =1)\n",
    "\n",
    "print(Ofcom)"
   ]
  },
  {
   "cell_type": "code",
   "execution_count": 8,
   "id": "9a1a6dae",
   "metadata": {},
   "outputs": [
    {
     "name": "stdout",
     "output_type": "stream",
     "text": [
      "Males aged 80-84              6.0000\n",
      "Females aged 65-69           14.0000\n",
      "Mode Income              110000.0000\n",
      "Mean Income               93700.0000\n",
      "Lower Quartile            58780.4878\n",
      "Males aged 95-99              3.0000\n",
      "Males aged 65+               32.0000\n",
      "Females aged 90-94            3.0000\n",
      "Females aged 45-65           40.0000\n",
      "Males aged 85-89             13.0000\n",
      "Males aged 75-79              8.0000\n",
      "Males aged 45-65             41.0000\n",
      "Males aged 70-74              9.0000\n",
      "Females aged 80-84            7.0000\n",
      "Females aged under 25        52.0000\n",
      "Females aged 70-74           12.0000\n",
      "Males aged 100+               1.0000\n",
      "Median Income             85000.0000\n",
      "Males aged 90-94              9.0000\n",
      "Males aged 65-69              8.0000\n",
      "Females aged 65+             40.0000\n",
      "Females aged 75-79            9.0000\n",
      "Females aged 85-89            6.0000\n",
      "Females aged 100+             1.0000\n",
      "Males aged under 25          55.0000\n",
      "Population aged 65+          72.0000\n",
      "Females aged 25-44           80.0000\n",
      "Females aged 95_99            2.0000\n",
      "Males aged 25-44             88.0000\n",
      "dtype: float64\n",
      "      Population aged 65+  Females aged 65-69  Females aged 65+  \\\n",
      "0                0.055556            0.000000             0.075   \n",
      "1                0.097222            0.071429             0.100   \n",
      "2                0.000000            0.000000             0.000   \n",
      "3                0.000000            0.000000             0.000   \n",
      "4                0.000000            0.000000             0.000   \n",
      "...                   ...                 ...               ...   \n",
      "7850             0.000000            0.000000             0.000   \n",
      "7851             0.000000            0.000000             0.000   \n",
      "7852             0.013889            0.071429             0.025   \n",
      "7853             0.000000            0.000000             0.000   \n",
      "7854             0.041667            0.071429             0.075   \n",
      "\n",
      "      Females aged 70-74  Females aged 75-79  Females aged 80-84  \\\n",
      "0               0.083333            0.111111            0.142857   \n",
      "1               0.083333            0.111111            0.142857   \n",
      "2               0.000000            0.000000            0.000000   \n",
      "3               0.000000            0.000000            0.000000   \n",
      "4               0.000000            0.000000            0.000000   \n",
      "...                  ...                 ...                 ...   \n",
      "7850            0.000000            0.000000            0.000000   \n",
      "7851            0.000000            0.000000            0.000000   \n",
      "7852            0.000000            0.000000            0.000000   \n",
      "7853            0.000000            0.000000            0.000000   \n",
      "7854            0.083333            0.000000            0.000000   \n",
      "\n",
      "      Females aged 85-89  Females aged 90-94  Females aged 95_99  \\\n",
      "0               0.000000                 0.0                 0.0   \n",
      "1               0.000000                 0.0                 0.0   \n",
      "2               0.000000                 0.0                 0.0   \n",
      "3               0.000000                 0.0                 0.0   \n",
      "4               0.000000                 0.0                 0.0   \n",
      "...                  ...                 ...                 ...   \n",
      "7850            0.000000                 0.0                 0.0   \n",
      "7851            0.000000                 0.0                 0.0   \n",
      "7852            0.000000                 0.0                 0.0   \n",
      "7853            0.000000                 0.0                 0.0   \n",
      "7854            0.166667                 0.0                 0.0   \n",
      "\n",
      "      Females aged 100+  ...  Females aged 25-44  Females aged 45-65  \\\n",
      "0                   0.0  ...              0.0500               0.075   \n",
      "1                   0.0  ...              0.0750               0.075   \n",
      "2                   0.0  ...              0.0125               0.025   \n",
      "3                   0.0  ...              0.0125               0.025   \n",
      "4                   0.0  ...              0.0250               0.050   \n",
      "...                 ...  ...                 ...                 ...   \n",
      "7850                0.0  ...              0.0000               0.000   \n",
      "7851                0.0  ...              0.0000               0.000   \n",
      "7852                0.0  ...              0.0500               0.075   \n",
      "7853                0.0  ...              0.0000               0.000   \n",
      "7854                0.0  ...              0.0250               0.075   \n",
      "\n",
      "      Males aged under 25  Males aged 25-44  Males aged 45-65  Mean Income  \\\n",
      "0                0.054545          0.045455          0.097561     0.830309   \n",
      "1                0.054545          0.056818          0.097561     0.954109   \n",
      "2                0.000000          0.000000          0.048780     0.941302   \n",
      "3                0.000000          0.011364          0.000000     0.884739   \n",
      "4                0.000000          0.022727          0.048780     0.430096   \n",
      "...                   ...               ...               ...          ...   \n",
      "7850             0.000000          0.000000          0.048780     0.351121   \n",
      "7851             0.000000          0.000000          0.024390     0.738527   \n",
      "7852             0.036364          0.034091          0.073171     0.399146   \n",
      "7853             0.000000          0.000000          0.024390     0.872999   \n",
      "7854             0.036364          0.056818          0.048780     0.748132   \n",
      "\n",
      "      Median Income  Mode Income  Lower Quartile     OA11CD  \n",
      "0          0.834365     1.000000        0.807102  E00023919  \n",
      "1          0.975840     1.000000        0.982082  E00023816  \n",
      "2          0.966387     1.000000        0.986722  E00023919  \n",
      "3          0.889706     1.000000        0.842116  E00023919  \n",
      "4          0.420415     0.204545        0.389160  E00023919  \n",
      "...             ...          ...             ...        ...  \n",
      "7850       0.336898     0.159091        0.314076  E00023930  \n",
      "7851       0.725490     1.000000        0.694675  E00023930  \n",
      "7852       0.380663     0.204545        0.347054  E00023930  \n",
      "7853       0.870588     1.000000        0.833610  E00023930  \n",
      "7854       0.740879     1.000000        0.702827  E00023674  \n",
      "\n",
      "[7855 rows x 30 columns]\n"
     ]
    }
   ],
   "source": [
    "cont = list(set(list(Ofcom.select_dtypes(exclude=['object']).columns))-set(['Target']))\n",
    "maxi = Ofcom[cont].max()\n",
    "print(maxi)\n",
    "Ofcom_norm = Ofcom\n",
    "Ofcom_norm[cont] = Ofcom[cont]/maxi\n",
    "print(Ofcom)\n",
    "        "
   ]
  },
  {
   "cell_type": "code",
   "execution_count": 9,
   "id": "c57f3012",
   "metadata": {},
   "outputs": [
    {
     "name": "stdout",
     "output_type": "stream",
     "text": [
      "Init: initializing centroids\n",
      "Init: initializing clusters\n",
      "Starting iterations...\n",
      "Run 1, iteration: 1/100, moves: 1740, cost: 88733.0\n",
      "Run 1, iteration: 2/100, moves: 642, cost: 88573.0\n",
      "Run 1, iteration: 3/100, moves: 217, cost: 88571.0\n",
      "Run 1, iteration: 4/100, moves: 1, cost: 88571.0\n",
      "Init: initializing centroids\n",
      "Init: initializing clusters\n",
      "Starting iterations...\n",
      "Run 2, iteration: 1/100, moves: 2481, cost: 90237.0\n",
      "Run 2, iteration: 2/100, moves: 1082, cost: 89673.0\n",
      "Run 2, iteration: 3/100, moves: 652, cost: 89126.0\n",
      "Run 2, iteration: 4/100, moves: 207, cost: 89126.0\n",
      "Init: initializing centroids\n",
      "Init: initializing clusters\n",
      "Starting iterations...\n",
      "Run 3, iteration: 1/100, moves: 2056, cost: 87859.0\n",
      "Run 3, iteration: 2/100, moves: 133, cost: 87855.0\n",
      "Run 3, iteration: 3/100, moves: 10, cost: 87855.0\n",
      "Init: initializing centroids\n",
      "Init: initializing clusters\n",
      "Starting iterations...\n",
      "Run 4, iteration: 1/100, moves: 3074, cost: 88166.0\n",
      "Run 4, iteration: 2/100, moves: 742, cost: 87591.0\n",
      "Run 4, iteration: 3/100, moves: 328, cost: 87579.0\n",
      "Run 4, iteration: 4/100, moves: 3, cost: 87579.0\n",
      "Init: initializing centroids\n",
      "Init: initializing clusters\n",
      "Starting iterations...\n",
      "Run 5, iteration: 1/100, moves: 2460, cost: 88160.0\n",
      "Run 5, iteration: 2/100, moves: 1208, cost: 87577.0\n",
      "Run 5, iteration: 3/100, moves: 573, cost: 87320.0\n",
      "Run 5, iteration: 4/100, moves: 43, cost: 87320.0\n",
      "Init: initializing centroids\n",
      "Init: initializing clusters\n",
      "Starting iterations...\n",
      "Run 6, iteration: 1/100, moves: 2775, cost: 87214.0\n",
      "Run 6, iteration: 2/100, moves: 119, cost: 87213.0\n",
      "Run 6, iteration: 3/100, moves: 0, cost: 87213.0\n",
      "Init: initializing centroids\n",
      "Init: initializing clusters\n",
      "Starting iterations...\n",
      "Run 7, iteration: 1/100, moves: 1115, cost: 88256.0\n",
      "Run 7, iteration: 2/100, moves: 172, cost: 88256.0\n",
      "Init: initializing centroids\n",
      "Init: initializing clusters\n",
      "Starting iterations...\n",
      "Run 8, iteration: 1/100, moves: 1477, cost: 88362.0\n",
      "Run 8, iteration: 2/100, moves: 294, cost: 88331.0\n",
      "Run 8, iteration: 3/100, moves: 28, cost: 88331.0\n",
      "Init: initializing centroids\n",
      "Init: initializing clusters\n",
      "Starting iterations...\n",
      "Run 9, iteration: 1/100, moves: 2956, cost: 90858.0\n",
      "Run 9, iteration: 2/100, moves: 390, cost: 90849.0\n",
      "Run 9, iteration: 3/100, moves: 5, cost: 90849.0\n",
      "Init: initializing centroids\n",
      "Init: initializing clusters\n",
      "Starting iterations...\n",
      "Run 10, iteration: 1/100, moves: 2413, cost: 89370.0\n",
      "Run 10, iteration: 2/100, moves: 933, cost: 88672.0\n",
      "Run 10, iteration: 3/100, moves: 239, cost: 88671.0\n",
      "Run 10, iteration: 4/100, moves: 0, cost: 88671.0\n",
      "Best run was number 6\n",
      "[1 2 3 ... 1 3 3]\n"
     ]
    }
   ],
   "source": [
    "km = KModes(n_clusters=5, init='Huang', n_init=10, verbose=1)\n",
    "\n",
    "clusters = km.fit_predict(Ofcom_norm)\n",
    "\n",
    "# Print the cluster centroids\n",
    "print(clusters)"
   ]
  },
  {
   "cell_type": "code",
   "execution_count": 10,
   "id": "7118e129",
   "metadata": {},
   "outputs": [],
   "source": [
    "Clusters = pd.DataFrame((clusters), columns = ['Clusters'])\n",
    "Clusters['OA11CD'] = Ofcom['OA11CD']"
   ]
  },
  {
   "cell_type": "code",
   "execution_count": 11,
   "id": "8cdb199c",
   "metadata": {},
   "outputs": [],
   "source": [
    "DigEx = Clusters.groupby('OA11CD').mean()"
   ]
  },
  {
   "cell_type": "code",
   "execution_count": 12,
   "id": "bfe40cb6",
   "metadata": {},
   "outputs": [],
   "source": [
    "df_places = df_places.merge(DigEx, on = ['OA11CD'], how = 'outer')\n",
    "df_places[['Clusters']] = df_places[['Clusters']].fillna(value = 0)"
   ]
  },
  {
   "cell_type": "code",
   "execution_count": 13,
   "id": "a45a0423",
   "metadata": {},
   "outputs": [
    {
     "data": {
      "image/png": "[encoded data removed]",
      "text/plain": [
       "<Figure size 432x288 with 2 Axes>"
      ]
     },
     "metadata": {
      "needs_background": "light"
     },
     "output_type": "display_data"
    }
   ],
   "source": [
    "df_places.plot(column = 'Clusters', legend = True)\n",
    "plt.title('Mean Class Assigned by K-Mode Clustering \\n  by 2011 Census Output Areas')\n",
    "plt.xlabel('Latitude')\n",
    "plt.ylabel('Longitude')\n",
    "plt.savefig('Ofcom_Exclusion_loc.png', dpi = 600)"
   ]
  },
  {
   "cell_type": "code",
   "execution_count": 155,
   "id": "47bc6cd2",
   "metadata": {},
   "outputs": [
    {
     "name": "stdout",
     "output_type": "stream",
     "text": [
      "Females aged 85-89       1.679616e+06\n",
      "Females aged under 25    5.345973e+13\n",
      "Males aged 45-65         7.984925e+12\n",
      "Females aged 100+        1.000000e+00\n",
      "Males aged 85-89         8.157307e+08\n",
      "Females aged 65+         6.553600e+12\n",
      "Females aged 45-65       6.553600e+12\n",
      "Males aged 80-84         1.679616e+06\n",
      "Males aged 25-44         3.596345e+15\n",
      "Population aged 65+      7.222041e+14\n",
      "Males aged 90-94         4.304672e+07\n",
      "Males aged 95-99         6.561000e+03\n",
      "Females aged 75-79       4.304672e+07\n",
      "Females aged 90-94       6.561000e+03\n",
      "Males aged 70-74         4.304672e+07\n",
      "Females aged 70-74       4.299817e+08\n",
      "Median Income            2.724905e+39\n",
      "Males aged 65+           1.099512e+12\n",
      "Females aged 25-44       1.677722e+15\n",
      "Males aged 65-69         1.677722e+07\n",
      "Females aged 65-69       1.475789e+09\n",
      "Males aged 75-79         1.677722e+07\n",
      "Males aged under 25      8.373394e+13\n",
      "Mode Income              2.143589e+40\n",
      "Lower Quartile           1.425166e+38\n",
      "Females aged 80-84       5.764801e+06\n",
      "Clusters                 6.000000e+00\n",
      "Females aged 95_99       2.560000e+02\n",
      "Males aged 100+          1.000000e+00\n",
      "Mean Income              5.941782e+39\n",
      "dtype: float64\n",
      "  Target  Population aged 65+  Females aged 65-69  Females aged 65+  \\\n",
      "0      0              41472.0               196.0            6400.0   \n",
      "1      0               5184.0                 0.0            1600.0   \n",
      "2      0                  0.0                 0.0               0.0   \n",
      "3      0                  0.0                 0.0               0.0   \n",
      "4      0              20736.0               196.0            3200.0   \n",
      "5      0                  0.0                 0.0               0.0   \n",
      "6      0                  0.0                 0.0               0.0   \n",
      "\n",
      "   Females aged 70-74  Females aged 75-79  Females aged 80-84  \\\n",
      "0               144.0                81.0                49.0   \n",
      "1                 0.0                 0.0                 0.0   \n",
      "2                 0.0                 0.0                 0.0   \n",
      "3                 0.0                 0.0                 0.0   \n",
      "4               144.0                 0.0                 0.0   \n",
      "5                 0.0                 0.0                 0.0   \n",
      "6                 0.0                 0.0                 0.0   \n",
      "\n",
      "   Females aged 85-89  Females aged 90-94  Females aged 95_99  ...  \\\n",
      "0                 0.0                 0.0                 0.0  ...   \n",
      "1                 0.0                 0.0                 0.0  ...   \n",
      "2                 0.0                 0.0                 0.0  ...   \n",
      "3                 0.0                 0.0                 0.0  ...   \n",
      "4                 0.0                 0.0                 0.0  ...   \n",
      "5                 0.0                 0.0                 0.0  ...   \n",
      "6                 0.0                 0.0                 0.0  ...   \n",
      "\n",
      "   Females aged 45-65  Males aged under 25  Males aged 25-44  \\\n",
      "0              9600.0              12100.0           77440.0   \n",
      "1              6400.0               3025.0           30976.0   \n",
      "2              1600.0               6050.0           30976.0   \n",
      "3                 0.0                  0.0            7744.0   \n",
      "4              6400.0               6050.0           30976.0   \n",
      "5              3200.0               3025.0            7744.0   \n",
      "6                 0.0                  0.0           15488.0   \n",
      "\n",
      "   Males aged 45-65   Mean Income  Median Income   Mode Income  \\\n",
      "0            8405.0  3.924521e+14   2.032031e+14  3.932500e+14   \n",
      "1            6724.0  4.890287e+14   4.876875e+14  1.331000e+15   \n",
      "2            3362.0  4.442523e+14   3.251250e+14  3.932500e+14   \n",
      "3               0.0  2.818280e+14   2.312000e+14  2.117500e+14   \n",
      "4            6724.0  6.084325e+14   5.057500e+14  1.331000e+15   \n",
      "5               0.0  7.743687e+14   3.612500e+14  3.932500e+14   \n",
      "6               0.0  7.743687e+14   5.934821e+14  1.331000e+15   \n",
      "\n",
      "   Lower Quartile     OA11CD  Clusters  \n",
      "0    5.182719e+13  E00023617     648.0  \n",
      "1    1.554816e+14  E00023921     324.0  \n",
      "2    8.637864e+13  E00023490       0.0  \n",
      "3    6.378731e+13  E00175194     405.0  \n",
      "4    8.637864e+13  E00024109      81.0  \n",
      "5    6.910291e+13  E00024112     729.0  \n",
      "6    2.003985e+14  E00024133     162.0  \n",
      "\n",
      "[7 rows x 32 columns]\n"
     ]
    }
   ],
   "source": [
    "centroids = pd.DataFrame(km.cluster_centroids_, columns = Ofcom.columns)\n",
    "centroids[cont] = centroids[cont].apply(pd.to_numeric)\n",
    "print(Ofcom[cont].max())\n",
    "centroids[cont] = centroids[cont].mul(maxi, axis = 1)\n",
    "print(centroids)"
   ]
  },
  {
   "cell_type": "code",
   "execution_count": 16,
   "id": "a3474ccc",
   "metadata": {},
   "outputs": [
    {
     "name": "stdout",
     "output_type": "stream",
     "text": [
      "Males aged 80-84              6.0000\n",
      "Females aged 65-69           14.0000\n",
      "Mode Income              110000.0000\n",
      "Mean Income               93700.0000\n",
      "Lower Quartile            58780.4878\n",
      "Males aged 95-99              3.0000\n",
      "Males aged 65+               32.0000\n",
      "Females aged 90-94            3.0000\n",
      "Females aged 45-65           40.0000\n",
      "Males aged 85-89             13.0000\n",
      "Males aged 75-79              8.0000\n",
      "Males aged 45-65             41.0000\n",
      "Males aged 70-74              9.0000\n",
      "Females aged 80-84            7.0000\n",
      "Females aged under 25        52.0000\n",
      "Females aged 70-74           12.0000\n",
      "Males aged 100+               1.0000\n",
      "Median Income             85000.0000\n",
      "Males aged 90-94              9.0000\n",
      "Males aged 65-69              8.0000\n",
      "Females aged 65+             40.0000\n",
      "Females aged 75-79            9.0000\n",
      "Females aged 85-89            6.0000\n",
      "Females aged 100+             1.0000\n",
      "Males aged under 25          55.0000\n",
      "Population aged 65+          72.0000\n",
      "Females aged 25-44           80.0000\n",
      "Females aged 95_99            2.0000\n",
      "Males aged 25-44             88.0000\n",
      "dtype: float64\n"
     ]
    },
    {
     "data": {
      "text/plain": [
       "0       1\n",
       "1       2\n",
       "2       3\n",
       "3       0\n",
       "4       3\n",
       "       ..\n",
       "7850    0\n",
       "7851    3\n",
       "7852    1\n",
       "7853    3\n",
       "7854    3\n",
       "Name: Clusters, Length: 7855, dtype: uint16"
      ]
     },
     "execution_count": 16,
     "metadata": {},
     "output_type": "execute_result"
    }
   ],
   "source": [
    "Ofcom_Cluster = Ofcom\n",
    "\n",
    "Ofcom_Cluster[cont] = Ofcom_Cluster[cont].apply(pd.to_numeric)\n",
    "print(Ofcom[cont].max())\n",
    "Ofcom_Cluster[cont] = Ofcom_Cluster[cont].mul(maxi, axis = 1)\n",
    "Ofcom_Cluster['Clusters'] = clusters\n",
    "Ofcom_Cluster['Clusters']"
   ]
  },
  {
   "cell_type": "code",
   "execution_count": 17,
   "id": "4894169b",
   "metadata": {},
   "outputs": [],
   "source": [
    "wb = Workbook()\n",
    "wb.save(filename = os.path.join('ofcom_k-modes.xlsx'))\n",
    "\n",
    "for i in range(0,8):\n",
    "    df = Ofcom_Cluster.loc[Ofcom_Cluster['Clusters'] == i]\n",
    "    with pd.ExcelWriter(os.path.join( 'ofcom_k-modes.xlsx'), engine=\"openpyxl\", mode = 'a') as writer:\n",
    "        df.to_excel(writer, sheet_name = 'cluster %s'%i)\n",
    "       "
   ]
  },
  {
   "cell_type": "code",
   "execution_count": 70,
   "id": "3a1bd0ce",
   "metadata": {},
   "outputs": [
    {
     "ename": "NameError",
     "evalue": "name 'WCC_Mob' is not defined",
     "output_type": "error",
     "traceback": [
      "\u001b[0;31m---------------------------------------------------------------------------\u001b[0m",
      "\u001b[0;31mNameError\u001b[0m                                 Traceback (most recent call last)",
      "\u001b[0;32m<ipython-input-70-c8d7a0a6f09e>\u001b[0m in \u001b[0;36m<module>\u001b[0;34m\u001b[0m\n\u001b[0;32m----> 1\u001b[0;31m \u001b[0mimputed\u001b[0m\u001b[0;34m[\u001b[0m\u001b[0;34m'OA11CD'\u001b[0m\u001b[0;34m]\u001b[0m \u001b[0;34m=\u001b[0m \u001b[0mWCC_Mob\u001b[0m\u001b[0;34m[\u001b[0m\u001b[0;34m'OutputArea'\u001b[0m\u001b[0;34m]\u001b[0m\u001b[0;34m\u001b[0m\u001b[0;34m\u001b[0m\u001b[0m\n\u001b[0m\u001b[1;32m      2\u001b[0m \u001b[0;34m\u001b[0m\u001b[0m\n\u001b[1;32m      3\u001b[0m \u001b[0mimputed\u001b[0m \u001b[0;34m=\u001b[0m \u001b[0mimputed\u001b[0m\u001b[0;34m.\u001b[0m\u001b[0mdropna\u001b[0m\u001b[0;34m(\u001b[0m\u001b[0maxis\u001b[0m \u001b[0;34m=\u001b[0m \u001b[0;36m0\u001b[0m\u001b[0;34m)\u001b[0m\u001b[0;34m\u001b[0m\u001b[0;34m\u001b[0m\u001b[0m\n\u001b[1;32m      4\u001b[0m \u001b[0mprint\u001b[0m\u001b[0;34m(\u001b[0m\u001b[0mimputed\u001b[0m\u001b[0;34m)\u001b[0m\u001b[0;34m\u001b[0m\u001b[0;34m\u001b[0m\u001b[0m\n",
      "\u001b[0;31mNameError\u001b[0m: name 'WCC_Mob' is not defined"
     ]
    }
   ],
   "source": [
    "imputed['OA11CD'] = WCC_Mob['OutputArea']\n",
    "\n",
    "imputed = imputed.dropna(axis = 0)\n",
    "print(imputed)"
   ]
  },
  {
   "cell_type": "code",
   "execution_count": null,
   "id": "a162cd8e",
   "metadata": {},
   "outputs": [],
   "source": [
    "df_places.plot(column = 'Clusters')"
   ]
  },
  {
   "cell_type": "code",
   "execution_count": null,
   "id": "27f7fe4b",
   "metadata": {},
   "outputs": [],
   "source": [
    "Clusters = pd.DataFrame((clusters+1), columns = ['Clusters'])\n",
    "print(Clusters)"
   ]
  },
  {
   "cell_type": "code",
   "execution_count": null,
   "id": "7f6e0e37",
   "metadata": {},
   "outputs": [],
   "source": [
    "Clusters= Clusters.fillna(value = 0)"
   ]
  },
  {
   "cell_type": "code",
   "execution_count": null,
   "id": "7c8f87aa",
   "metadata": {},
   "outputs": [],
   "source": [
    "Clusters['OA11CD'] = WCC_Mob['OutputArea']\n",
    "print(Clusters)"
   ]
  },
  {
   "cell_type": "code",
   "execution_count": null,
   "id": "c640a39d",
   "metadata": {},
   "outputs": [],
   "source": [
    "DigEx = Clusters.groupby('OA11CD').mean()"
   ]
  },
  {
   "cell_type": "code",
   "execution_count": null,
   "id": "1186f213",
   "metadata": {},
   "outputs": [],
   "source": [
    "df_places = df_places.merge(DigEx, on = ['OA11CD'], how = 'outer')\n",
    "df_places[['Clusters']] = df_places[['Clusters']].fillna(value = 0)"
   ]
  },
  {
   "cell_type": "code",
   "execution_count": null,
   "id": "881364dd",
   "metadata": {},
   "outputs": [],
   "source": [
    "df_places.plot(column = 'Clusters')"
   ]
  },
  {
   "cell_type": "code",
   "execution_count": null,
   "id": "135e263c",
   "metadata": {},
   "outputs": [],
   "source": [
    "WCC_Mob = pd.read_csv(os.path.join(_preprocesseddir, 'WCC_total_final_no_loc.csv')\n",
    "WCC_Mob['OA11CD']=WCC_Mob['OutputArea']\n",
    "print(WCC_Mob.head)\n",
    "DigEx = WCC_Mob.groupby('OA11CD').mean()\n",
    "DigEx.to_csv('Mob Exclusion OA.csv')"
   ]
  },
  {
   "cell_type": "code",
   "execution_count": null,
   "id": "f5f44259",
   "metadata": {},
   "outputs": [],
   "source": []
  },
  {
   "cell_type": "code",
   "execution_count": null,
   "id": "82ccd69a",
   "metadata": {},
   "outputs": [],
   "source": [
    "df_places = df_places.merge(DigEx, on = ['OA11CD'], how = 'outer')\n",
    "print(df_places)"
   ]
  },
  {
   "cell_type": "code",
   "execution_count": 105,
   "id": "c21ff122",
   "metadata": {},
   "outputs": [
    {
     "ename": "KeyError",
     "evalue": "'Target'",
     "output_type": "error",
     "traceback": [
      "\u001b[0;31m---------------------------------------------------------------------------\u001b[0m",
      "\u001b[0;31mKeyError\u001b[0m                                  Traceback (most recent call last)",
      "\u001b[0;32m/opt/anaconda3/envs/WCC_MSc/lib/python3.8/site-packages/pandas/core/indexes/base.py\u001b[0m in \u001b[0;36mget_loc\u001b[0;34m(self, key, method, tolerance)\u001b[0m\n\u001b[1;32m   3079\u001b[0m             \u001b[0;32mtry\u001b[0m\u001b[0;34m:\u001b[0m\u001b[0;34m\u001b[0m\u001b[0;34m\u001b[0m\u001b[0m\n\u001b[0;32m-> 3080\u001b[0;31m                 \u001b[0;32mreturn\u001b[0m \u001b[0mself\u001b[0m\u001b[0;34m.\u001b[0m\u001b[0m_engine\u001b[0m\u001b[0;34m.\u001b[0m\u001b[0mget_loc\u001b[0m\u001b[0;34m(\u001b[0m\u001b[0mcasted_key\u001b[0m\u001b[0;34m)\u001b[0m\u001b[0;34m\u001b[0m\u001b[0;34m\u001b[0m\u001b[0m\n\u001b[0m\u001b[1;32m   3081\u001b[0m             \u001b[0;32mexcept\u001b[0m \u001b[0mKeyError\u001b[0m \u001b[0;32mas\u001b[0m \u001b[0merr\u001b[0m\u001b[0;34m:\u001b[0m\u001b[0;34m\u001b[0m\u001b[0;34m\u001b[0m\u001b[0m\n",
      "\u001b[0;32mpandas/_libs/index.pyx\u001b[0m in \u001b[0;36mpandas._libs.index.IndexEngine.get_loc\u001b[0;34m()\u001b[0m\n",
      "\u001b[0;32mpandas/_libs/index.pyx\u001b[0m in \u001b[0;36mpandas._libs.index.IndexEngine.get_loc\u001b[0;34m()\u001b[0m\n",
      "\u001b[0;32mpandas/_libs/index.pyx\u001b[0m in \u001b[0;36mpandas._libs.index.IndexEngine._get_loc_duplicates\u001b[0;34m()\u001b[0m\n",
      "\u001b[0;32mpandas/_libs/index.pyx\u001b[0m in \u001b[0;36mpandas._libs.index.IndexEngine._maybe_get_bool_indexer\u001b[0;34m()\u001b[0m\n",
      "\u001b[0;32mpandas/_libs/index.pyx\u001b[0m in \u001b[0;36mpandas._libs.index.IndexEngine._unpack_bool_indexer\u001b[0;34m()\u001b[0m\n",
      "\u001b[0;31mKeyError\u001b[0m: 'Target'",
      "\nThe above exception was the direct cause of the following exception:\n",
      "\u001b[0;31mKeyError\u001b[0m                                  Traceback (most recent call last)",
      "\u001b[0;32m<ipython-input-105-4e9178d2ebec>\u001b[0m in \u001b[0;36m<module>\u001b[0;34m\u001b[0m\n\u001b[1;32m      1\u001b[0m \u001b[0mplt\u001b[0m\u001b[0;34m.\u001b[0m\u001b[0mfigure\u001b[0m\u001b[0;34m(\u001b[0m\u001b[0;34m)\u001b[0m\u001b[0;34m\u001b[0m\u001b[0;34m\u001b[0m\u001b[0m\n\u001b[1;32m      2\u001b[0m \u001b[0mdf_places\u001b[0m\u001b[0;34m.\u001b[0m\u001b[0mplot\u001b[0m\u001b[0;34m(\u001b[0m\u001b[0;34m)\u001b[0m\u001b[0;34m\u001b[0m\u001b[0;34m\u001b[0m\u001b[0m\n\u001b[0;32m----> 3\u001b[0;31m df_places.plot(column = 'Target', legend = True, missing_kwds={\n\u001b[0m\u001b[1;32m      4\u001b[0m   \u001b[0;34m\"color\"\u001b[0m\u001b[0;34m:\u001b[0m \u001b[0;34m\"lightgrey\"\u001b[0m\u001b[0;34m,\u001b[0m\u001b[0;34m\u001b[0m\u001b[0;34m\u001b[0m\u001b[0m\n\u001b[1;32m      5\u001b[0m   \u001b[0;34m\"label\"\u001b[0m\u001b[0;34m:\u001b[0m \u001b[0;34m\"Missing values\"\u001b[0m\u001b[0;34m,\u001b[0m\u001b[0;34m\u001b[0m\u001b[0;34m\u001b[0m\u001b[0m\n",
      "\u001b[0;32m/opt/anaconda3/envs/WCC_MSc/lib/python3.8/site-packages/geopandas/plotting.py\u001b[0m in \u001b[0;36m__call__\u001b[0;34m(self, *args, **kwargs)\u001b[0m\n\u001b[1;32m    923\u001b[0m             \u001b[0mkind\u001b[0m \u001b[0;34m=\u001b[0m \u001b[0mkwargs\u001b[0m\u001b[0;34m.\u001b[0m\u001b[0mpop\u001b[0m\u001b[0;34m(\u001b[0m\u001b[0;34m\"kind\"\u001b[0m\u001b[0;34m,\u001b[0m \u001b[0;34m\"geo\"\u001b[0m\u001b[0;34m)\u001b[0m\u001b[0;34m\u001b[0m\u001b[0;34m\u001b[0m\u001b[0m\n\u001b[1;32m    924\u001b[0m             \u001b[0;32mif\u001b[0m \u001b[0mkind\u001b[0m \u001b[0;34m==\u001b[0m \u001b[0;34m\"geo\"\u001b[0m\u001b[0;34m:\u001b[0m\u001b[0;34m\u001b[0m\u001b[0;34m\u001b[0m\u001b[0m\n\u001b[0;32m--> 925\u001b[0;31m                 \u001b[0;32mreturn\u001b[0m \u001b[0mplot_dataframe\u001b[0m\u001b[0;34m(\u001b[0m\u001b[0mdata\u001b[0m\u001b[0;34m,\u001b[0m \u001b[0;34m*\u001b[0m\u001b[0margs\u001b[0m\u001b[0;34m,\u001b[0m \u001b[0;34m**\u001b[0m\u001b[0mkwargs\u001b[0m\u001b[0;34m)\u001b[0m\u001b[0;34m\u001b[0m\u001b[0;34m\u001b[0m\u001b[0m\n\u001b[0m\u001b[1;32m    926\u001b[0m             \u001b[0;32mif\u001b[0m \u001b[0mkind\u001b[0m \u001b[0;32min\u001b[0m \u001b[0mself\u001b[0m\u001b[0;34m.\u001b[0m\u001b[0m_pandas_kinds\u001b[0m\u001b[0;34m:\u001b[0m\u001b[0;34m\u001b[0m\u001b[0;34m\u001b[0m\u001b[0m\n\u001b[1;32m    927\u001b[0m                 \u001b[0;31m# Access pandas plots\u001b[0m\u001b[0;34m\u001b[0m\u001b[0;34m\u001b[0m\u001b[0;34m\u001b[0m\u001b[0m\n",
      "\u001b[0;32m/opt/anaconda3/envs/WCC_MSc/lib/python3.8/site-packages/geopandas/plotting.py\u001b[0m in \u001b[0;36mplot_dataframe\u001b[0;34m(df, column, cmap, color, ax, cax, categorical, legend, scheme, k, vmin, vmax, markersize, figsize, legend_kwds, categories, classification_kwds, missing_kwds, aspect, **style_kwds)\u001b[0m\n\u001b[1;32m    711\u001b[0m                 \u001b[0mvalues\u001b[0m \u001b[0;34m=\u001b[0m \u001b[0mvalues\u001b[0m\u001b[0;34m.\u001b[0m\u001b[0mreindex\u001b[0m\u001b[0;34m(\u001b[0m\u001b[0mdf\u001b[0m\u001b[0;34m.\u001b[0m\u001b[0mindex\u001b[0m\u001b[0;34m)\u001b[0m\u001b[0;34m\u001b[0m\u001b[0;34m\u001b[0m\u001b[0m\n\u001b[1;32m    712\u001b[0m     \u001b[0;32melse\u001b[0m\u001b[0;34m:\u001b[0m\u001b[0;34m\u001b[0m\u001b[0;34m\u001b[0m\u001b[0m\n\u001b[0;32m--> 713\u001b[0;31m         \u001b[0mvalues\u001b[0m \u001b[0;34m=\u001b[0m \u001b[0mdf\u001b[0m\u001b[0;34m[\u001b[0m\u001b[0mcolumn\u001b[0m\u001b[0;34m]\u001b[0m\u001b[0;34m\u001b[0m\u001b[0;34m\u001b[0m\u001b[0m\n\u001b[0m\u001b[1;32m    714\u001b[0m \u001b[0;34m\u001b[0m\u001b[0m\n\u001b[1;32m    715\u001b[0m     \u001b[0;32mif\u001b[0m \u001b[0mpd\u001b[0m\u001b[0;34m.\u001b[0m\u001b[0mapi\u001b[0m\u001b[0;34m.\u001b[0m\u001b[0mtypes\u001b[0m\u001b[0;34m.\u001b[0m\u001b[0mis_categorical_dtype\u001b[0m\u001b[0;34m(\u001b[0m\u001b[0mvalues\u001b[0m\u001b[0;34m.\u001b[0m\u001b[0mdtype\u001b[0m\u001b[0;34m)\u001b[0m\u001b[0;34m:\u001b[0m\u001b[0;34m\u001b[0m\u001b[0;34m\u001b[0m\u001b[0m\n",
      "\u001b[0;32m/opt/anaconda3/envs/WCC_MSc/lib/python3.8/site-packages/geopandas/geodataframe.py\u001b[0m in \u001b[0;36m__getitem__\u001b[0;34m(self, key)\u001b[0m\n\u001b[1;32m   1297\u001b[0m         \u001b[0mGeoDataFrame\u001b[0m\u001b[0;34m.\u001b[0m\u001b[0;34m\u001b[0m\u001b[0;34m\u001b[0m\u001b[0m\n\u001b[1;32m   1298\u001b[0m         \"\"\"\n\u001b[0;32m-> 1299\u001b[0;31m         \u001b[0mresult\u001b[0m \u001b[0;34m=\u001b[0m \u001b[0msuper\u001b[0m\u001b[0;34m(\u001b[0m\u001b[0mGeoDataFrame\u001b[0m\u001b[0;34m,\u001b[0m \u001b[0mself\u001b[0m\u001b[0;34m)\u001b[0m\u001b[0;34m.\u001b[0m\u001b[0m__getitem__\u001b[0m\u001b[0;34m(\u001b[0m\u001b[0mkey\u001b[0m\u001b[0;34m)\u001b[0m\u001b[0;34m\u001b[0m\u001b[0;34m\u001b[0m\u001b[0m\n\u001b[0m\u001b[1;32m   1300\u001b[0m         \u001b[0mgeo_col\u001b[0m \u001b[0;34m=\u001b[0m \u001b[0mself\u001b[0m\u001b[0;34m.\u001b[0m\u001b[0m_geometry_column_name\u001b[0m\u001b[0;34m\u001b[0m\u001b[0;34m\u001b[0m\u001b[0m\n\u001b[1;32m   1301\u001b[0m         \u001b[0;32mif\u001b[0m \u001b[0misinstance\u001b[0m\u001b[0;34m(\u001b[0m\u001b[0mresult\u001b[0m\u001b[0;34m,\u001b[0m \u001b[0mSeries\u001b[0m\u001b[0;34m)\u001b[0m \u001b[0;32mand\u001b[0m \u001b[0misinstance\u001b[0m\u001b[0;34m(\u001b[0m\u001b[0mresult\u001b[0m\u001b[0;34m.\u001b[0m\u001b[0mdtype\u001b[0m\u001b[0;34m,\u001b[0m \u001b[0mGeometryDtype\u001b[0m\u001b[0;34m)\u001b[0m\u001b[0;34m:\u001b[0m\u001b[0;34m\u001b[0m\u001b[0;34m\u001b[0m\u001b[0m\n",
      "\u001b[0;32m/opt/anaconda3/envs/WCC_MSc/lib/python3.8/site-packages/pandas/core/frame.py\u001b[0m in \u001b[0;36m__getitem__\u001b[0;34m(self, key)\u001b[0m\n\u001b[1;32m   3022\u001b[0m             \u001b[0;32mif\u001b[0m \u001b[0mself\u001b[0m\u001b[0;34m.\u001b[0m\u001b[0mcolumns\u001b[0m\u001b[0;34m.\u001b[0m\u001b[0mnlevels\u001b[0m \u001b[0;34m>\u001b[0m \u001b[0;36m1\u001b[0m\u001b[0;34m:\u001b[0m\u001b[0;34m\u001b[0m\u001b[0;34m\u001b[0m\u001b[0m\n\u001b[1;32m   3023\u001b[0m                 \u001b[0;32mreturn\u001b[0m \u001b[0mself\u001b[0m\u001b[0;34m.\u001b[0m\u001b[0m_getitem_multilevel\u001b[0m\u001b[0;34m(\u001b[0m\u001b[0mkey\u001b[0m\u001b[0;34m)\u001b[0m\u001b[0;34m\u001b[0m\u001b[0;34m\u001b[0m\u001b[0m\n\u001b[0;32m-> 3024\u001b[0;31m             \u001b[0mindexer\u001b[0m \u001b[0;34m=\u001b[0m \u001b[0mself\u001b[0m\u001b[0;34m.\u001b[0m\u001b[0mcolumns\u001b[0m\u001b[0;34m.\u001b[0m\u001b[0mget_loc\u001b[0m\u001b[0;34m(\u001b[0m\u001b[0mkey\u001b[0m\u001b[0;34m)\u001b[0m\u001b[0;34m\u001b[0m\u001b[0;34m\u001b[0m\u001b[0m\n\u001b[0m\u001b[1;32m   3025\u001b[0m             \u001b[0;32mif\u001b[0m \u001b[0mis_integer\u001b[0m\u001b[0;34m(\u001b[0m\u001b[0mindexer\u001b[0m\u001b[0;34m)\u001b[0m\u001b[0;34m:\u001b[0m\u001b[0;34m\u001b[0m\u001b[0;34m\u001b[0m\u001b[0m\n\u001b[1;32m   3026\u001b[0m                 \u001b[0mindexer\u001b[0m \u001b[0;34m=\u001b[0m \u001b[0;34m[\u001b[0m\u001b[0mindexer\u001b[0m\u001b[0;34m]\u001b[0m\u001b[0;34m\u001b[0m\u001b[0;34m\u001b[0m\u001b[0m\n",
      "\u001b[0;32m/opt/anaconda3/envs/WCC_MSc/lib/python3.8/site-packages/pandas/core/indexes/base.py\u001b[0m in \u001b[0;36mget_loc\u001b[0;34m(self, key, method, tolerance)\u001b[0m\n\u001b[1;32m   3080\u001b[0m                 \u001b[0;32mreturn\u001b[0m \u001b[0mself\u001b[0m\u001b[0;34m.\u001b[0m\u001b[0m_engine\u001b[0m\u001b[0;34m.\u001b[0m\u001b[0mget_loc\u001b[0m\u001b[0;34m(\u001b[0m\u001b[0mcasted_key\u001b[0m\u001b[0;34m)\u001b[0m\u001b[0;34m\u001b[0m\u001b[0;34m\u001b[0m\u001b[0m\n\u001b[1;32m   3081\u001b[0m             \u001b[0;32mexcept\u001b[0m \u001b[0mKeyError\u001b[0m \u001b[0;32mas\u001b[0m \u001b[0merr\u001b[0m\u001b[0;34m:\u001b[0m\u001b[0;34m\u001b[0m\u001b[0;34m\u001b[0m\u001b[0m\n\u001b[0;32m-> 3082\u001b[0;31m                 \u001b[0;32mraise\u001b[0m \u001b[0mKeyError\u001b[0m\u001b[0;34m(\u001b[0m\u001b[0mkey\u001b[0m\u001b[0;34m)\u001b[0m \u001b[0;32mfrom\u001b[0m \u001b[0merr\u001b[0m\u001b[0;34m\u001b[0m\u001b[0;34m\u001b[0m\u001b[0m\n\u001b[0m\u001b[1;32m   3083\u001b[0m \u001b[0;34m\u001b[0m\u001b[0m\n\u001b[1;32m   3084\u001b[0m         \u001b[0;32mif\u001b[0m \u001b[0mtolerance\u001b[0m \u001b[0;32mis\u001b[0m \u001b[0;32mnot\u001b[0m \u001b[0;32mNone\u001b[0m\u001b[0;34m:\u001b[0m\u001b[0;34m\u001b[0m\u001b[0;34m\u001b[0m\u001b[0m\n",
      "\u001b[0;31mKeyError\u001b[0m: 'Target'"
     ]
    },
    {
     "data": {
      "text/plain": [
       "<Figure size 432x288 with 0 Axes>"
      ]
     },
     "metadata": {},
     "output_type": "display_data"
    },
    {
     "data": {
      "image/png": "[encoded data removed]",
      "text/plain": [
       "<Figure size 432x288 with 1 Axes>"
      ]
     },
     "metadata": {
      "needs_background": "light"
     },
     "output_type": "display_data"
    },
    {
     "data": {
      "image/png": "[encoded data removed]",
      "text/plain": [
       "<Figure size 432x288 with 1 Axes>"
      ]
     },
     "metadata": {
      "needs_background": "light"
     },
     "output_type": "display_data"
    }
   ],
   "source": [
    "plt.figure()\n",
    "df_places.plot()\n",
    "df_places.plot(column = 'Target', legend = True, missing_kwds={\n",
    "  \"color\": \"lightgrey\",\n",
    "  \"label\": \"Missing values\",\n",
    "})\n",
    "plt.title('Mean Mobile Exclusion Across \\n 2011 Census Output Areas')\n",
    "plt.xlabel('Latitude')\n",
    "plt.ylabel('Longitude')\n",
    "plt.savefig('Mobile_Exclusion_loc.png', dpi = 600)"
   ]
  },
  {
   "cell_type": "code",
   "execution_count": 18,
   "id": "4ca03aa6",
   "metadata": {},
   "outputs": [],
   "source": [
    "Cluster_1 = pd.read_excel('ofcom_k-modes.xlsx', sheet_name = 'cluster 1')\n",
    "Cluster_0 = pd.read_excel('ofcom_k-modes.xlsx', sheet_name = 'cluster 0')\n",
    "Cluster_2 = pd.read_excel('ofcom_k-modes.xlsx', sheet_name = 'cluster 2')\n",
    "Cluster_3 = pd.read_excel('ofcom_k-modes.xlsx', sheet_name = 'cluster 3')\n",
    "Cluster_4 = pd.read_excel('ofcom_k-modes.xlsx', sheet_name = 'cluster 4')\n",
    "Cluster_5 = pd.read_excel('ofcom_k-modes.xlsx', sheet_name = 'cluster 5')\n",
    "Cluster_6 = pd.read_excel('ofcom_k-modes.xlsx', sheet_name = 'cluster 6')\n",
    "Cluster_7 = pd.read_excel('ofcom_k-modes.xlsx', sheet_name = 'cluster 7')\n",
    "#Cluster_8 = pd.read_excel('ofcom_k-modes.xlsx', sheet_name = 'cluster 8')\n",
    "#Cluster_9 = pd.read_excel('ofcom_k-modes.xlsx', sheet_name = 'cluster 9')\n"
   ]
  },
  {
   "cell_type": "code",
   "execution_count": 173,
   "id": "776c18d8",
   "metadata": {},
   "outputs": [
    {
     "ename": "KeyError",
     "evalue": "\"['Unnamed:0'] not found in axis\"",
     "output_type": "error",
     "traceback": [
      "\u001b[0;31m---------------------------------------------------------------------------\u001b[0m",
      "\u001b[0;31mKeyError\u001b[0m                                  Traceback (most recent call last)",
      "\u001b[0;32m<ipython-input-173-3c8174c10f44>\u001b[0m in \u001b[0;36m<module>\u001b[0;34m\u001b[0m\n\u001b[0;32m----> 1\u001b[0;31m \u001b[0mCluster_1\u001b[0m \u001b[0;34m=\u001b[0m \u001b[0mCluster_1\u001b[0m\u001b[0;34m.\u001b[0m\u001b[0mdrop\u001b[0m\u001b[0;34m(\u001b[0m\u001b[0;34m'Unnamed:0'\u001b[0m\u001b[0;34m,\u001b[0m \u001b[0maxis\u001b[0m \u001b[0;34m=\u001b[0m \u001b[0;36m1\u001b[0m\u001b[0;34m)\u001b[0m\u001b[0;34m\u001b[0m\u001b[0;34m\u001b[0m\u001b[0m\n\u001b[0m\u001b[1;32m      2\u001b[0m \u001b[0mCluster_2\u001b[0m \u001b[0;34m=\u001b[0m \u001b[0mCluster_2\u001b[0m\u001b[0;34m.\u001b[0m\u001b[0mdrop\u001b[0m\u001b[0;34m(\u001b[0m\u001b[0;34m'Unnamed:0'\u001b[0m\u001b[0;34m,\u001b[0m \u001b[0maxis\u001b[0m \u001b[0;34m=\u001b[0m \u001b[0;36m1\u001b[0m\u001b[0;34m)\u001b[0m\u001b[0;34m\u001b[0m\u001b[0;34m\u001b[0m\u001b[0m\n\u001b[1;32m      3\u001b[0m \u001b[0mCluster_3\u001b[0m \u001b[0;34m=\u001b[0m \u001b[0mCluster_3\u001b[0m\u001b[0;34m.\u001b[0m\u001b[0mdrop\u001b[0m\u001b[0;34m(\u001b[0m\u001b[0;34m'Unnamed:0'\u001b[0m\u001b[0;34m,\u001b[0m \u001b[0maxis\u001b[0m \u001b[0;34m=\u001b[0m \u001b[0;36m1\u001b[0m\u001b[0;34m)\u001b[0m\u001b[0;34m\u001b[0m\u001b[0;34m\u001b[0m\u001b[0m\n\u001b[1;32m      4\u001b[0m \u001b[0mCluster_4\u001b[0m \u001b[0;34m=\u001b[0m \u001b[0mCluster_4\u001b[0m\u001b[0;34m.\u001b[0m\u001b[0mdrop\u001b[0m\u001b[0;34m(\u001b[0m\u001b[0;34m'Unnamed:0'\u001b[0m\u001b[0;34m,\u001b[0m \u001b[0maxis\u001b[0m \u001b[0;34m=\u001b[0m \u001b[0;36m1\u001b[0m\u001b[0;34m)\u001b[0m\u001b[0;34m\u001b[0m\u001b[0;34m\u001b[0m\u001b[0m\n\u001b[1;32m      5\u001b[0m \u001b[0mCluster_0\u001b[0m \u001b[0;34m=\u001b[0m \u001b[0mCluster_0\u001b[0m\u001b[0;34m.\u001b[0m\u001b[0mdrop\u001b[0m\u001b[0;34m(\u001b[0m\u001b[0;34m'Unnamed:0'\u001b[0m\u001b[0;34m,\u001b[0m \u001b[0maxis\u001b[0m \u001b[0;34m=\u001b[0m \u001b[0;36m1\u001b[0m\u001b[0;34m)\u001b[0m\u001b[0;34m\u001b[0m\u001b[0;34m\u001b[0m\u001b[0m\n",
      "\u001b[0;32m/opt/anaconda3/envs/WCC_MSc/lib/python3.8/site-packages/pandas/core/frame.py\u001b[0m in \u001b[0;36mdrop\u001b[0;34m(self, labels, axis, index, columns, level, inplace, errors)\u001b[0m\n\u001b[1;32m   4303\u001b[0m                 \u001b[0mweight\u001b[0m  \u001b[0;36m1.0\u001b[0m     \u001b[0;36m0.8\u001b[0m\u001b[0;34m\u001b[0m\u001b[0;34m\u001b[0m\u001b[0m\n\u001b[1;32m   4304\u001b[0m         \"\"\"\n\u001b[0;32m-> 4305\u001b[0;31m         return super().drop(\n\u001b[0m\u001b[1;32m   4306\u001b[0m             \u001b[0mlabels\u001b[0m\u001b[0;34m=\u001b[0m\u001b[0mlabels\u001b[0m\u001b[0;34m,\u001b[0m\u001b[0;34m\u001b[0m\u001b[0;34m\u001b[0m\u001b[0m\n\u001b[1;32m   4307\u001b[0m             \u001b[0maxis\u001b[0m\u001b[0;34m=\u001b[0m\u001b[0maxis\u001b[0m\u001b[0;34m,\u001b[0m\u001b[0;34m\u001b[0m\u001b[0;34m\u001b[0m\u001b[0m\n",
      "\u001b[0;32m/opt/anaconda3/envs/WCC_MSc/lib/python3.8/site-packages/pandas/core/generic.py\u001b[0m in \u001b[0;36mdrop\u001b[0;34m(self, labels, axis, index, columns, level, inplace, errors)\u001b[0m\n\u001b[1;32m   4150\u001b[0m         \u001b[0;32mfor\u001b[0m \u001b[0maxis\u001b[0m\u001b[0;34m,\u001b[0m \u001b[0mlabels\u001b[0m \u001b[0;32min\u001b[0m \u001b[0maxes\u001b[0m\u001b[0;34m.\u001b[0m\u001b[0mitems\u001b[0m\u001b[0;34m(\u001b[0m\u001b[0;34m)\u001b[0m\u001b[0;34m:\u001b[0m\u001b[0;34m\u001b[0m\u001b[0;34m\u001b[0m\u001b[0m\n\u001b[1;32m   4151\u001b[0m             \u001b[0;32mif\u001b[0m \u001b[0mlabels\u001b[0m \u001b[0;32mis\u001b[0m \u001b[0;32mnot\u001b[0m \u001b[0;32mNone\u001b[0m\u001b[0;34m:\u001b[0m\u001b[0;34m\u001b[0m\u001b[0;34m\u001b[0m\u001b[0m\n\u001b[0;32m-> 4152\u001b[0;31m                 \u001b[0mobj\u001b[0m \u001b[0;34m=\u001b[0m \u001b[0mobj\u001b[0m\u001b[0;34m.\u001b[0m\u001b[0m_drop_axis\u001b[0m\u001b[0;34m(\u001b[0m\u001b[0mlabels\u001b[0m\u001b[0;34m,\u001b[0m \u001b[0maxis\u001b[0m\u001b[0;34m,\u001b[0m \u001b[0mlevel\u001b[0m\u001b[0;34m=\u001b[0m\u001b[0mlevel\u001b[0m\u001b[0;34m,\u001b[0m \u001b[0merrors\u001b[0m\u001b[0;34m=\u001b[0m\u001b[0merrors\u001b[0m\u001b[0;34m)\u001b[0m\u001b[0;34m\u001b[0m\u001b[0;34m\u001b[0m\u001b[0m\n\u001b[0m\u001b[1;32m   4153\u001b[0m \u001b[0;34m\u001b[0m\u001b[0m\n\u001b[1;32m   4154\u001b[0m         \u001b[0;32mif\u001b[0m \u001b[0minplace\u001b[0m\u001b[0;34m:\u001b[0m\u001b[0;34m\u001b[0m\u001b[0;34m\u001b[0m\u001b[0m\n",
      "\u001b[0;32m/opt/anaconda3/envs/WCC_MSc/lib/python3.8/site-packages/pandas/core/generic.py\u001b[0m in \u001b[0;36m_drop_axis\u001b[0;34m(self, labels, axis, level, errors)\u001b[0m\n\u001b[1;32m   4185\u001b[0m                 \u001b[0mnew_axis\u001b[0m \u001b[0;34m=\u001b[0m \u001b[0maxis\u001b[0m\u001b[0;34m.\u001b[0m\u001b[0mdrop\u001b[0m\u001b[0;34m(\u001b[0m\u001b[0mlabels\u001b[0m\u001b[0;34m,\u001b[0m \u001b[0mlevel\u001b[0m\u001b[0;34m=\u001b[0m\u001b[0mlevel\u001b[0m\u001b[0;34m,\u001b[0m \u001b[0merrors\u001b[0m\u001b[0;34m=\u001b[0m\u001b[0merrors\u001b[0m\u001b[0;34m)\u001b[0m\u001b[0;34m\u001b[0m\u001b[0;34m\u001b[0m\u001b[0m\n\u001b[1;32m   4186\u001b[0m             \u001b[0;32melse\u001b[0m\u001b[0;34m:\u001b[0m\u001b[0;34m\u001b[0m\u001b[0;34m\u001b[0m\u001b[0m\n\u001b[0;32m-> 4187\u001b[0;31m                 \u001b[0mnew_axis\u001b[0m \u001b[0;34m=\u001b[0m \u001b[0maxis\u001b[0m\u001b[0;34m.\u001b[0m\u001b[0mdrop\u001b[0m\u001b[0;34m(\u001b[0m\u001b[0mlabels\u001b[0m\u001b[0;34m,\u001b[0m \u001b[0merrors\u001b[0m\u001b[0;34m=\u001b[0m\u001b[0merrors\u001b[0m\u001b[0;34m)\u001b[0m\u001b[0;34m\u001b[0m\u001b[0;34m\u001b[0m\u001b[0m\n\u001b[0m\u001b[1;32m   4188\u001b[0m             \u001b[0mresult\u001b[0m \u001b[0;34m=\u001b[0m \u001b[0mself\u001b[0m\u001b[0;34m.\u001b[0m\u001b[0mreindex\u001b[0m\u001b[0;34m(\u001b[0m\u001b[0;34m**\u001b[0m\u001b[0;34m{\u001b[0m\u001b[0maxis_name\u001b[0m\u001b[0;34m:\u001b[0m \u001b[0mnew_axis\u001b[0m\u001b[0;34m}\u001b[0m\u001b[0;34m)\u001b[0m\u001b[0;34m\u001b[0m\u001b[0;34m\u001b[0m\u001b[0m\n\u001b[1;32m   4189\u001b[0m \u001b[0;34m\u001b[0m\u001b[0m\n",
      "\u001b[0;32m/opt/anaconda3/envs/WCC_MSc/lib/python3.8/site-packages/pandas/core/indexes/base.py\u001b[0m in \u001b[0;36mdrop\u001b[0;34m(self, labels, errors)\u001b[0m\n\u001b[1;32m   5589\u001b[0m         \u001b[0;32mif\u001b[0m \u001b[0mmask\u001b[0m\u001b[0;34m.\u001b[0m\u001b[0many\u001b[0m\u001b[0;34m(\u001b[0m\u001b[0;34m)\u001b[0m\u001b[0;34m:\u001b[0m\u001b[0;34m\u001b[0m\u001b[0;34m\u001b[0m\u001b[0m\n\u001b[1;32m   5590\u001b[0m             \u001b[0;32mif\u001b[0m \u001b[0merrors\u001b[0m \u001b[0;34m!=\u001b[0m \u001b[0;34m\"ignore\"\u001b[0m\u001b[0;34m:\u001b[0m\u001b[0;34m\u001b[0m\u001b[0;34m\u001b[0m\u001b[0m\n\u001b[0;32m-> 5591\u001b[0;31m                 \u001b[0;32mraise\u001b[0m \u001b[0mKeyError\u001b[0m\u001b[0;34m(\u001b[0m\u001b[0;34mf\"{labels[mask]} not found in axis\"\u001b[0m\u001b[0;34m)\u001b[0m\u001b[0;34m\u001b[0m\u001b[0;34m\u001b[0m\u001b[0m\n\u001b[0m\u001b[1;32m   5592\u001b[0m             \u001b[0mindexer\u001b[0m \u001b[0;34m=\u001b[0m \u001b[0mindexer\u001b[0m\u001b[0;34m[\u001b[0m\u001b[0;34m~\u001b[0m\u001b[0mmask\u001b[0m\u001b[0;34m]\u001b[0m\u001b[0;34m\u001b[0m\u001b[0;34m\u001b[0m\u001b[0m\n\u001b[1;32m   5593\u001b[0m         \u001b[0;32mreturn\u001b[0m \u001b[0mself\u001b[0m\u001b[0;34m.\u001b[0m\u001b[0mdelete\u001b[0m\u001b[0;34m(\u001b[0m\u001b[0mindexer\u001b[0m\u001b[0;34m)\u001b[0m\u001b[0;34m\u001b[0m\u001b[0;34m\u001b[0m\u001b[0m\n",
      "\u001b[0;31mKeyError\u001b[0m: \"['Unnamed:0'] not found in axis\""
     ]
    }
   ],
   "source": [
    "Cluster_1 = Cluster_1.drop('Unnamed:0', axis = 1)\n",
    "Cluster_2 = Cluster_2.drop('Unnamed:0', axis = 1)\n",
    "Cluster_3 = Cluster_3.drop('Unnamed:0', axis = 1)\n",
    "Cluster_4 = Cluster_4.drop('Unnamed:0', axis = 1)\n",
    "Cluster_0 = Cluster_0.drop('Unnamed:0', axis = 1)"
   ]
  },
  {
   "cell_type": "code",
   "execution_count": 19,
   "id": "0dfcce87",
   "metadata": {},
   "outputs": [],
   "source": [
    "wb = Workbook()\n",
    "wb.save(filename = os.path.join('ofcom_k-modes_description.xlsx'))\n",
    "cluster = [Cluster_0,Cluster_1,Cluster_2,Cluster_3,Cluster_4,Cluster_5,Cluster_6,Cluster_7]\n",
    "for i in cluster: \n",
    "    j = 0\n",
    "    df = i.describe()\n",
    "    with pd.ExcelWriter(os.path.join( 'ofcom_k-modes_description.xlsx'), engine=\"openpyxl\", mode = 'a') as writer:\n",
    "        df.to_excel(writer, sheet_name = 'cluster %s'%j)\n",
    "    j+=1"
   ]
  },
  {
   "cell_type": "code",
   "execution_count": 180,
   "id": "3a1fcacb",
   "metadata": {},
   "outputs": [
    {
     "name": "stdout",
     "output_type": "stream",
     "text": [
      "       Unnamed: 0.1       Target   Large User  Total households  \\\n",
      "count   1928.000000  1928.000000  1928.000000       1928.000000   \n",
      "mean    4449.810685     0.191909     0.022822          2.117220   \n",
      "std     1758.116301     0.393904     0.149373          6.666241   \n",
      "min        5.000000     0.000000     0.000000          1.000000   \n",
      "25%     3113.250000     0.000000     0.000000          1.000000   \n",
      "50%     4396.500000     0.000000     0.000000          1.000000   \n",
      "75%     5866.750000     0.000000     0.000000          1.000000   \n",
      "max     7853.000000     1.000000     1.000000        114.000000   \n",
      "\n",
      "       Population aged 65+      Females  Females aged 65-69  Females aged 65+  \\\n",
      "count          1928.000000  1928.000000         1928.000000       1928.000000   \n",
      "mean              0.388485     1.565353            0.078320          0.256224   \n",
      "std               2.753120     8.335772            0.500738          1.542584   \n",
      "min               0.000000     0.000000            0.000000          0.000000   \n",
      "25%               0.000000     0.000000            0.000000          0.000000   \n",
      "50%               0.000000     0.000000            0.000000          0.000000   \n",
      "75%               0.000000     1.000000            0.000000          0.000000   \n",
      "max              56.000000   162.000000            8.000000         30.000000   \n",
      "\n",
      "       Females aged 70-74  Females aged 75-79  ...  Females aged 25-44  \\\n",
      "count         1928.000000         1928.000000  ...         1928.000000   \n",
      "mean             0.048755            0.038382  ...            0.456950   \n",
      "std              0.394183            0.298030  ...            2.827549   \n",
      "min              0.000000            0.000000  ...            0.000000   \n",
      "25%              0.000000            0.000000  ...            0.000000   \n",
      "50%              0.000000            0.000000  ...            0.000000   \n",
      "75%              0.000000            0.000000  ...            0.000000   \n",
      "max              7.000000            6.000000  ...           68.000000   \n",
      "\n",
      "       Females aged 45-65  Males aged under 25  Males aged 25-44  \\\n",
      "count         1928.000000          1928.000000       1928.000000   \n",
      "mean             0.449689             0.347510          1.296680   \n",
      "std              1.996250             2.048854          2.770058   \n",
      "min              0.000000             0.000000          0.000000   \n",
      "25%              0.000000             0.000000          0.000000   \n",
      "50%              0.000000             0.000000          1.000000   \n",
      "75%              0.000000             0.000000          1.000000   \n",
      "max             34.000000            45.000000         51.000000   \n",
      "\n",
      "       Males aged 45-65   Mean Income  Median Income    Mode Income  \\\n",
      "count       1928.000000   1928.000000    1928.000000    1928.000000   \n",
      "mean           0.531120  50908.921162   45696.472745   45565.352697   \n",
      "std            1.731921  19441.255928   18404.554968   37822.193230   \n",
      "min            0.000000  14200.000000   12326.607820    7500.000000   \n",
      "25%            0.000000  34075.000000   30000.000000   17500.000000   \n",
      "50%            0.000000  45800.000000   41250.000000   27500.000000   \n",
      "75%            0.000000  66300.000000   60000.000000   47500.000000   \n",
      "max           33.000000  93700.000000   85000.000000  110000.000000   \n",
      "\n",
      "       Lower Quartile  Clusters  \n",
      "count     1928.000000      1928  \n",
      "mean     30363.121597         4  \n",
      "std      13291.171881         0  \n",
      "min       7843.803056         4  \n",
      "25%      19166.666670         4  \n",
      "50%      26666.666670         4  \n",
      "75%      40000.000000         4  \n",
      "max      58333.333330         4  \n",
      "\n",
      "[8 rows x 36 columns]\n"
     ]
    }
   ],
   "source": [
    "Cluster_1 = pd.read_excel('ofcom_k-modes_description.xlsx', sheet_name = 'cluster 01',index_col = 'Unnamed: 0')\n",
    "Cluster_0 = pd.read_excel('ofcom_k-modes_description.xlsx', sheet_name = 'cluster 0',index_col = 'Unnamed: 0')\n",
    "Cluster_2 = pd.read_excel('ofcom_k-modes_description.xlsx', sheet_name = 'cluster 02',index_col = 'Unnamed: 0')\n",
    "Cluster_3 = pd.read_excel('ofcom_k-modes_description.xlsx', sheet_name = 'cluster 03',index_col = 'Unnamed: 0')\n",
    "Cluster_4 = pd.read_excel('ofcom_k-modes_description.xlsx', sheet_name = 'cluster 04',index_col = 'Unnamed: 0')\n",
    "print(Cluster_4)"
   ]
  },
  {
   "cell_type": "code",
   "execution_count": 181,
   "id": "88206d11",
   "metadata": {},
   "outputs": [],
   "source": [
    "descript = [Cluster_0,Cluster_1,Cluster_2,Cluster_3,Cluster_4]"
   ]
  },
  {
   "cell_type": "code",
   "execution_count": 182,
   "id": "74d4820b",
   "metadata": {},
   "outputs": [
    {
     "name": "stdout",
     "output_type": "stream",
     "text": [
      "[0.11633282] [58763.02003082]\n",
      "[0.32074718]\n",
      "[0.11633282 0.08774584] [58763.02003082 56342.13306697]\n",
      "[0.32074718 0.28303198]\n",
      "[0.11633282 0.08774584 0.0417124 ] [58763.02003082 56342.13306697 49439.40714072]\n",
      "[0.32074718 0.28303198 0.19998607]\n",
      "[0.11633282 0.08774584 0.0417124  0.17643098] [58763.02003082 56342.13306697 49439.40714072 54489.76430976]\n",
      "[0.32074718 0.28303198 0.19998607 0.38131483]\n",
      "[0.11633282 0.08774584 0.0417124  0.17643098 0.19190871] [58763.02003082 56342.13306697 49439.40714072 54489.76430976\n",
      " 50908.92116183]\n",
      "[0.32074718 0.28303198 0.19998607 0.38131483 0.39390384]\n"
     ]
    }
   ],
   "source": [
    "Target = np.array([])\n",
    "Target_std = np.array([])\n",
    "Wage = np.array([])\n",
    "Wage_std = np.array([])\n",
    "old = np.array([])\n",
    "old_std = np.array([])\n",
    "\n",
    "for item in descript:\n",
    "    Target = np.append(Target, item.loc['mean','Target'])\n",
    "    Target_std = np.append(Target_std, item.loc['std','Target'])\n",
    "    Wage = np.append(Wage, item.loc['mean','Mean Income'])\n",
    "    Wage_std = np.append(Wage_std, item.loc['std','Mean Income'])\n",
    "    old = np.append(old, item.loc['mean', 'Population aged 65+'])\n",
    "    old_std = np.append(old_std, item.loc['std', 'Population aged 65+'])\n",
    "\n",
    "    print(Target, Wage)\n",
    "    print(Target_std)\n",
    "    \n",
    "    "
   ]
  },
  {
   "cell_type": "code",
   "execution_count": 183,
   "id": "1050fd51",
   "metadata": {},
   "outputs": [
    {
     "name": "stdout",
     "output_type": "stream",
     "text": [
      "(5,)\n",
      "(5,)\n"
     ]
    }
   ],
   "source": [
    "print(np.shape(Target))\n",
    "print(np.shape(Wage))"
   ]
  },
  {
   "cell_type": "code",
   "execution_count": 184,
   "id": "886c1c2e",
   "metadata": {},
   "outputs": [
    {
     "data": {
      "image/png": "[encoded data removed]",
      "text/plain": [
       "<Figure size 432x288 with 1 Axes>"
      ]
     },
     "metadata": {
      "needs_background": "light"
     },
     "output_type": "display_data"
    }
   ],
   "source": [
    "plt.figure()\n",
    "for item in descript:\n",
    "    plt.errorbar(item.loc['mean','Target'],item.loc['mean','Mean Income'],xerr = item.loc['std','Target'],yerr =item.loc['std','Mean Income'] )\n",
    "plt.legend(['Cluster 0','Cluster 1','Cluster 2','Cluster 3','Cluster 4'])\n",
    "plt.xlabel('Mean Rate of Digital Exclusion')\n",
    "plt.ylabel('Mean Income, £')\n",
    "plt.title('Digital Exclusion vs Mean Income per Cluster')\n",
    "plt.savefig('Income.png', dpi = 600)\n",
    "plt.show()\n"
   ]
  },
  {
   "cell_type": "code",
   "execution_count": 185,
   "id": "8617fa2b",
   "metadata": {},
   "outputs": [
    {
     "data": {
      "image/png": "[encoded data removed]",
      "text/plain": [
       "<Figure size 432x288 with 1 Axes>"
      ]
     },
     "metadata": {
      "needs_background": "light"
     },
     "output_type": "display_data"
    }
   ],
   "source": [
    "plt.figure()\n",
    "for item in descript:\n",
    "    plt.errorbar(item.loc['mean','Target'],item.loc['mean','Population aged 65+'],xerr = item.loc['std','Target'],yerr =item.loc['std','Population aged 65+'] )\n",
    "plt.legend(['Cluster 0','Cluster 1','Cluster 2','Cluster 3','Cluster 4'])\n",
    "plt.xlabel('Mean Rate of Digital Exclusion')\n",
    "plt.ylabel('Mean Number of Individuals Aged 65+')\n",
    "plt.title('Digital Exclusion vs \\n Number of Individuals Aged 65+')\n",
    "plt.savefig('Old.png', dpi = 600)\n",
    "plt.show()\n"
   ]
  },
  {
   "cell_type": "code",
   "execution_count": null,
   "id": "daff7f15",
   "metadata": {},
   "outputs": [],
   "source": []
  },
  {
   "cell_type": "code",
   "execution_count": null,
   "id": "f2b515e3",
   "metadata": {},
   "outputs": [],
   "source": []
  }
 ],
 "metadata": {
  "kernelspec": {
   "display_name": "Python 3",
   "language": "python",
   "name": "python3"
  },
  "language_info": {
   "codemirror_mode": {
    "name": "ipython",
    "version": 3
   },
   "file_extension": ".py",
   "mimetype": "text/x-python",
   "name": "python",
   "nbconvert_exporter": "python",
   "pygments_lexer": "ipython3",
   "version": "3.8.10"
  }
 },
 "nbformat": 4,
 "nbformat_minor": 5
}
