{
 "cells": [
  {
   "cell_type": "code",
   "execution_count": 1,
   "id": "cd328c05",
   "metadata": {},
   "outputs": [],
   "source": [
    "import pandas as pd\n",
    "import numpy as np\n",
    "import geopandas as gpd\n",
    "import matplotlib.pyplot as plt\n",
    "import os\n",
    "from sklearn.experimental import enable_iterative_imputer\n",
    "from sklearn.impute import IterativeImputer\n",
    "from kmodes.kmodes import KModes\n",
    "from openpyxl import Workbook"
   ]
  },
  {
   "cell_type": "code",
   "execution_count": 2,
   "id": "be5714f3",
   "metadata": {},
   "outputs": [],
   "source": [
    "#Initialise repositories\n",
    "_projroot = os.path.abspath('.')\n",
    "_datadir = os.path.join(_projroot, 'data')\n",
    "_preprocesseddir = os.path.join(_datadir, 'preprocesseddata')\n",
    "_experimentdir = os.path.join(_datadir, 'experiments')\n",
    "_rawdir = os.path.join(_datadir, 'rawdata')\n",
    "_src = os.path.join(_projroot,'src')\n",
    "_sampling = os.path.join(_experimentdir,'sampling')\n",
    "_geodata = os.path.join(_datadir,'geodata')"
   ]
  },
  {
   "cell_type": "code",
   "execution_count": 3,
   "id": "21eb12ee",
   "metadata": {},
   "outputs": [],
   "source": [
    "df_places = gpd.read_file(os.path.join(_geodata, 'Output_Areas.geojson'))"
   ]
  },
  {
   "cell_type": "code",
   "execution_count": null,
   "id": "25e4eeab",
   "metadata": {},
   "outputs": [],
   "source": []
  },
  {
   "cell_type": "code",
   "execution_count": null,
   "id": "33e6a0e1",
   "metadata": {},
   "outputs": [],
   "source": []
  },
  {
   "cell_type": "code",
   "execution_count": 4,
   "id": "06c2899e",
   "metadata": {},
   "outputs": [
    {
     "name": "stdout",
     "output_type": "stream",
     "text": [
      "      Unnamed: 0 Postcode PC_Area  Target  Population aged 65+  \\\n",
      "0              0   NW14HB      NW       0                    4   \n",
      "1              1   NW14LJ      NW       0                    7   \n",
      "2              2   NW14NR      NW       1                    0   \n",
      "3              3   NW14NT      NW       1                    0   \n",
      "4              4   NW14NX      NW       1                    0   \n",
      "...          ...      ...     ...     ...                  ...   \n",
      "7850        7850  WC2R1BF      WC       0                    0   \n",
      "7851        7851  WC2R3AA      WC       0                    0   \n",
      "7852        7852  WC2R3AT      WC       0                    1   \n",
      "7853        7853  WC2R3JE      WC       0                    0   \n",
      "7854        7854  SW1X9HF      SW       1                    3   \n",
      "\n",
      "      Females aged 65-69  Females aged 65+  Females aged 70-74  \\\n",
      "0                      0                 3                   1   \n",
      "1                      1                 4                   1   \n",
      "2                      0                 0                   0   \n",
      "3                      0                 0                   0   \n",
      "4                      0                 0                   0   \n",
      "...                  ...               ...                 ...   \n",
      "7850                   0                 0                   0   \n",
      "7851                   0                 0                   0   \n",
      "7852                   1                 1                   0   \n",
      "7853                   0                 0                   0   \n",
      "7854                   1                 3                   1   \n",
      "\n",
      "      Females aged 75-79  Females aged 80-84  ...  Females aged under 25  \\\n",
      "0                      1                   1  ...                      1   \n",
      "1                      1                   1  ...                      3   \n",
      "2                      0                   0  ...                      0   \n",
      "3                      0                   0  ...                      0   \n",
      "4                      0                   0  ...                      0   \n",
      "...                  ...                 ...  ...                    ...   \n",
      "7850                   0                   0  ...                      0   \n",
      "7851                   0                   0  ...                      0   \n",
      "7852                   0                   0  ...                      1   \n",
      "7853                   0                   0  ...                      0   \n",
      "7854                   0                   0  ...                      2   \n",
      "\n",
      "      Females aged 25-44  Females aged 45-65  Males aged under 25  \\\n",
      "0                      4                   3                    3   \n",
      "1                      6                   3                    3   \n",
      "2                      1                   1                    0   \n",
      "3                      1                   1                    0   \n",
      "4                      2                   2                    0   \n",
      "...                  ...                 ...                  ...   \n",
      "7850                   0                   0                    0   \n",
      "7851                   0                   0                    0   \n",
      "7852                   4                   3                    2   \n",
      "7853                   0                   0                    0   \n",
      "7854                   2                   3                    2   \n",
      "\n",
      "      Males aged 25-44  Males aged 45-65  Mean Income  Median Income  \\\n",
      "0                    4                 4      77800.0    70921.05263   \n",
      "1                    5                 4      89400.0    82946.42857   \n",
      "2                    0                 2      88200.0    82142.85714   \n",
      "3                    1                 0      82900.0    75625.00000   \n",
      "4                    2                 2      40300.0    35735.29412   \n",
      "...                ...               ...          ...            ...   \n",
      "7850                 0                 2      32900.0    28636.36364   \n",
      "7851                 0                 1      69200.0    61666.66667   \n",
      "7852                 3                 3      37400.0    32356.32184   \n",
      "7853                 0                 1      81800.0    74000.00000   \n",
      "7854                 5                 2      70100.0    62974.68354   \n",
      "\n",
      "      Mode Income  Lower Quartile  \n",
      "0          110000     47441.86047  \n",
      "1          110000     57727.27273  \n",
      "2          110000     58000.00000  \n",
      "3          110000     49500.00000  \n",
      "4           22500     22875.00000  \n",
      "...           ...             ...  \n",
      "7850        17500     18461.53846  \n",
      "7851       110000     40833.33333  \n",
      "7852        22500     20400.00000  \n",
      "7853       110000     49000.00000  \n",
      "7854       110000     41312.50000  \n",
      "\n",
      "[7855 rows x 33 columns]\n"
     ]
    }
   ],
   "source": [
    "Ofcom = pd.read_csv(os.path.join(_preprocesseddir,'Ofcom_Combine.csv'))\n",
    "Ofcom['Postcode'].astype(str)\n",
    "print(Ofcom)"
   ]
  },
  {
   "cell_type": "code",
   "execution_count": 5,
   "id": "fb7306e2",
   "metadata": {},
   "outputs": [
    {
     "data": {
      "text/plain": [
       "0        NW13AU\n",
       "1        NW14HB\n",
       "2        NW14LJ\n",
       "3        NW14LL\n",
       "4        NW14NR\n",
       "         ...   \n",
       "7850    WC2R3DX\n",
       "7851    WC2R3JE\n",
       "7852    WC2R3JJ\n",
       "7853    WC2R3LD\n",
       "7854    WC2R3LL\n",
       "Name: Postcode, Length: 7855, dtype: object"
      ]
     },
     "execution_count": 5,
     "metadata": {},
     "output_type": "execute_result"
    }
   ],
   "source": [
    "Postcode_OA = pd.read_csv(os.path.join(_geodata,'postcode_OA.csv'))\n",
    "Postcode_OA['Postcode'].astype(str)"
   ]
  },
  {
   "cell_type": "code",
   "execution_count": 6,
   "id": "b09735a1",
   "metadata": {},
   "outputs": [],
   "source": [
    "Ofcom = Ofcom.merge(Postcode_OA, on=['Postcode'], how = 'outer')"
   ]
  },
  {
   "cell_type": "code",
   "execution_count": 7,
   "id": "1c48334e",
   "metadata": {},
   "outputs": [
    {
     "name": "stdout",
     "output_type": "stream",
     "text": [
      "      Target  Population aged 65+  Females aged 65-69  Females aged 65+  \\\n",
      "0          0                    4                   0                 3   \n",
      "1          0                    7                   1                 4   \n",
      "2          1                    0                   0                 0   \n",
      "3          1                    0                   0                 0   \n",
      "4          1                    0                   0                 0   \n",
      "...      ...                  ...                 ...               ...   \n",
      "7850       0                    0                   0                 0   \n",
      "7851       0                    0                   0                 0   \n",
      "7852       0                    1                   1                 1   \n",
      "7853       0                    0                   0                 0   \n",
      "7854       1                    3                   1                 3   \n",
      "\n",
      "      Females aged 70-74  Females aged 75-79  Females aged 80-84  \\\n",
      "0                      1                   1                   1   \n",
      "1                      1                   1                   1   \n",
      "2                      0                   0                   0   \n",
      "3                      0                   0                   0   \n",
      "4                      0                   0                   0   \n",
      "...                  ...                 ...                 ...   \n",
      "7850                   0                   0                   0   \n",
      "7851                   0                   0                   0   \n",
      "7852                   0                   0                   0   \n",
      "7853                   0                   0                   0   \n",
      "7854                   1                   0                   0   \n",
      "\n",
      "      Females aged 85-89  Females aged 90-94  Females aged 95_99  ...  \\\n",
      "0                      0                   0                   0  ...   \n",
      "1                      0                   0                   0  ...   \n",
      "2                      0                   0                   0  ...   \n",
      "3                      0                   0                   0  ...   \n",
      "4                      0                   0                   0  ...   \n",
      "...                  ...                 ...                 ...  ...   \n",
      "7850                   0                   0                   0  ...   \n",
      "7851                   0                   0                   0  ...   \n",
      "7852                   0                   0                   0  ...   \n",
      "7853                   0                   0                   0  ...   \n",
      "7854                   1                   0                   0  ...   \n",
      "\n",
      "      Females aged 25-44  Females aged 45-65  Males aged under 25  \\\n",
      "0                      4                   3                    3   \n",
      "1                      6                   3                    3   \n",
      "2                      1                   1                    0   \n",
      "3                      1                   1                    0   \n",
      "4                      2                   2                    0   \n",
      "...                  ...                 ...                  ...   \n",
      "7850                   0                   0                    0   \n",
      "7851                   0                   0                    0   \n",
      "7852                   4                   3                    2   \n",
      "7853                   0                   0                    0   \n",
      "7854                   2                   3                    2   \n",
      "\n",
      "      Males aged 25-44  Males aged 45-65  Mean Income  Median Income  \\\n",
      "0                    4                 4      77800.0    70921.05263   \n",
      "1                    5                 4      89400.0    82946.42857   \n",
      "2                    0                 2      88200.0    82142.85714   \n",
      "3                    1                 0      82900.0    75625.00000   \n",
      "4                    2                 2      40300.0    35735.29412   \n",
      "...                ...               ...          ...            ...   \n",
      "7850                 0                 2      32900.0    28636.36364   \n",
      "7851                 0                 1      69200.0    61666.66667   \n",
      "7852                 3                 3      37400.0    32356.32184   \n",
      "7853                 0                 1      81800.0    74000.00000   \n",
      "7854                 5                 2      70100.0    62974.68354   \n",
      "\n",
      "      Mode Income  Lower Quartile     OA11CD  \n",
      "0          110000     47441.86047  E00023919  \n",
      "1          110000     57727.27273  E00023816  \n",
      "2          110000     58000.00000  E00023919  \n",
      "3          110000     49500.00000  E00023919  \n",
      "4           22500     22875.00000  E00023919  \n",
      "...           ...             ...        ...  \n",
      "7850        17500     18461.53846  E00023930  \n",
      "7851       110000     40833.33333  E00023930  \n",
      "7852        22500     20400.00000  E00023930  \n",
      "7853       110000     49000.00000  E00023930  \n",
      "7854       110000     41312.50000  E00023674  \n",
      "\n",
      "[7855 rows x 31 columns]\n"
     ]
    }
   ],
   "source": [
    "Ofcom = Ofcom.drop(['Unnamed: 0_x','Unnamed: 0_y', 'Postcode', 'PC_Area'], axis =1)\n",
    "\n",
    "print(Ofcom)"
   ]
  },
  {
   "cell_type": "code",
   "execution_count": 8,
   "id": "9a1a6dae",
   "metadata": {},
   "outputs": [
    {
     "name": "stdout",
     "output_type": "stream",
     "text": [
      "Females aged 85-89            6.0000\n",
      "Females aged under 25        52.0000\n",
      "Males aged 45-65             41.0000\n",
      "Females aged 100+             1.0000\n",
      "Males aged 85-89             13.0000\n",
      "Females aged 65+             40.0000\n",
      "Females aged 45-65           40.0000\n",
      "Males aged 80-84              6.0000\n",
      "Males aged 25-44             88.0000\n",
      "Population aged 65+          72.0000\n",
      "Males aged 90-94              9.0000\n",
      "Males aged 95-99              3.0000\n",
      "Females aged 75-79            9.0000\n",
      "Females aged 90-94            3.0000\n",
      "Males aged 70-74              9.0000\n",
      "Females aged 70-74           12.0000\n",
      "Median Income             85000.0000\n",
      "Males aged 65+               32.0000\n",
      "Females aged 25-44           80.0000\n",
      "Males aged 65-69              8.0000\n",
      "Females aged 65-69           14.0000\n",
      "Males aged 75-79              8.0000\n",
      "Males aged under 25          55.0000\n",
      "Mode Income              110000.0000\n",
      "Lower Quartile            58780.4878\n",
      "Females aged 80-84            7.0000\n",
      "Females aged 95_99            2.0000\n",
      "Males aged 100+               1.0000\n",
      "Mean Income               93700.0000\n",
      "dtype: float64\n",
      "      Target  Population aged 65+  Females aged 65-69  Females aged 65+  \\\n",
      "0          0             0.055556            0.000000             0.075   \n",
      "1          0             0.097222            0.071429             0.100   \n",
      "2          1             0.000000            0.000000             0.000   \n",
      "3          1             0.000000            0.000000             0.000   \n",
      "4          1             0.000000            0.000000             0.000   \n",
      "...      ...                  ...                 ...               ...   \n",
      "7850       0             0.000000            0.000000             0.000   \n",
      "7851       0             0.000000            0.000000             0.000   \n",
      "7852       0             0.013889            0.071429             0.025   \n",
      "7853       0             0.000000            0.000000             0.000   \n",
      "7854       1             0.041667            0.071429             0.075   \n",
      "\n",
      "      Females aged 70-74  Females aged 75-79  Females aged 80-84  \\\n",
      "0               0.083333            0.111111            0.142857   \n",
      "1               0.083333            0.111111            0.142857   \n",
      "2               0.000000            0.000000            0.000000   \n",
      "3               0.000000            0.000000            0.000000   \n",
      "4               0.000000            0.000000            0.000000   \n",
      "...                  ...                 ...                 ...   \n",
      "7850            0.000000            0.000000            0.000000   \n",
      "7851            0.000000            0.000000            0.000000   \n",
      "7852            0.000000            0.000000            0.000000   \n",
      "7853            0.000000            0.000000            0.000000   \n",
      "7854            0.083333            0.000000            0.000000   \n",
      "\n",
      "      Females aged 85-89  Females aged 90-94  Females aged 95_99  ...  \\\n",
      "0               0.000000                 0.0                 0.0  ...   \n",
      "1               0.000000                 0.0                 0.0  ...   \n",
      "2               0.000000                 0.0                 0.0  ...   \n",
      "3               0.000000                 0.0                 0.0  ...   \n",
      "4               0.000000                 0.0                 0.0  ...   \n",
      "...                  ...                 ...                 ...  ...   \n",
      "7850            0.000000                 0.0                 0.0  ...   \n",
      "7851            0.000000                 0.0                 0.0  ...   \n",
      "7852            0.000000                 0.0                 0.0  ...   \n",
      "7853            0.000000                 0.0                 0.0  ...   \n",
      "7854            0.166667                 0.0                 0.0  ...   \n",
      "\n",
      "      Females aged 25-44  Females aged 45-65  Males aged under 25  \\\n",
      "0                 0.0500               0.075             0.054545   \n",
      "1                 0.0750               0.075             0.054545   \n",
      "2                 0.0125               0.025             0.000000   \n",
      "3                 0.0125               0.025             0.000000   \n",
      "4                 0.0250               0.050             0.000000   \n",
      "...                  ...                 ...                  ...   \n",
      "7850              0.0000               0.000             0.000000   \n",
      "7851              0.0000               0.000             0.000000   \n",
      "7852              0.0500               0.075             0.036364   \n",
      "7853              0.0000               0.000             0.000000   \n",
      "7854              0.0250               0.075             0.036364   \n",
      "\n",
      "      Males aged 25-44  Males aged 45-65  Mean Income  Median Income  \\\n",
      "0             0.045455          0.097561     0.830309       0.834365   \n",
      "1             0.056818          0.097561     0.954109       0.975840   \n",
      "2             0.000000          0.048780     0.941302       0.966387   \n",
      "3             0.011364          0.000000     0.884739       0.889706   \n",
      "4             0.022727          0.048780     0.430096       0.420415   \n",
      "...                ...               ...          ...            ...   \n",
      "7850          0.000000          0.048780     0.351121       0.336898   \n",
      "7851          0.000000          0.024390     0.738527       0.725490   \n",
      "7852          0.034091          0.073171     0.399146       0.380663   \n",
      "7853          0.000000          0.024390     0.872999       0.870588   \n",
      "7854          0.056818          0.048780     0.748132       0.740879   \n",
      "\n",
      "      Mode Income  Lower Quartile     OA11CD  \n",
      "0        1.000000        0.807102  E00023919  \n",
      "1        1.000000        0.982082  E00023816  \n",
      "2        1.000000        0.986722  E00023919  \n",
      "3        1.000000        0.842116  E00023919  \n",
      "4        0.204545        0.389160  E00023919  \n",
      "...           ...             ...        ...  \n",
      "7850     0.159091        0.314076  E00023930  \n",
      "7851     1.000000        0.694675  E00023930  \n",
      "7852     0.204545        0.347054  E00023930  \n",
      "7853     1.000000        0.833610  E00023930  \n",
      "7854     1.000000        0.702827  E00023674  \n",
      "\n",
      "[7855 rows x 31 columns]\n"
     ]
    }
   ],
   "source": [
    "cont = list(set(list(Ofcom.select_dtypes(exclude=['object']).columns))-set(['Target']))\n",
    "maxi = Ofcom[cont].max()\n",
    "print(maxi)\n",
    "Ofcom_norm = Ofcom\n",
    "Ofcom_norm[cont] = Ofcom[cont]/maxi\n",
    "print(Ofcom)\n",
    "        "
   ]
  },
  {
   "cell_type": "code",
   "execution_count": 9,
   "id": "c57f3012",
   "metadata": {},
   "outputs": [
    {
     "name": "stdout",
     "output_type": "stream",
     "text": [
      "Init: initializing centroids\n",
      "Init: initializing clusters\n",
      "Starting iterations...\n",
      "Run 1, iteration: 1/100, moves: 2707, cost: 89403.0\n",
      "Run 1, iteration: 2/100, moves: 702, cost: 89189.0\n",
      "Run 1, iteration: 3/100, moves: 47, cost: 89189.0\n",
      "Init: initializing centroids\n",
      "Init: initializing clusters\n",
      "Starting iterations...\n",
      "Run 2, iteration: 1/100, moves: 2420, cost: 90973.0\n",
      "Run 2, iteration: 2/100, moves: 766, cost: 90321.0\n",
      "Run 2, iteration: 3/100, moves: 603, cost: 90284.0\n",
      "Run 2, iteration: 4/100, moves: 108, cost: 90245.0\n",
      "Run 2, iteration: 5/100, moves: 18, cost: 90245.0\n",
      "Init: initializing centroids\n",
      "Init: initializing clusters\n",
      "Starting iterations...\n",
      "Run 3, iteration: 1/100, moves: 3519, cost: 90052.0\n",
      "Run 3, iteration: 2/100, moves: 1078, cost: 90040.0\n",
      "Run 3, iteration: 3/100, moves: 7, cost: 90040.0\n",
      "Init: initializing centroids\n",
      "Init: initializing clusters\n",
      "Starting iterations...\n",
      "Run 4, iteration: 1/100, moves: 2834, cost: 90332.0\n",
      "Run 4, iteration: 2/100, moves: 923, cost: 89766.0\n",
      "Run 4, iteration: 3/100, moves: 466, cost: 89285.0\n",
      "Run 4, iteration: 4/100, moves: 257, cost: 89285.0\n",
      "Init: initializing centroids\n",
      "Init: initializing clusters\n",
      "Starting iterations...\n",
      "Run 5, iteration: 1/100, moves: 2807, cost: 91056.0\n",
      "Run 5, iteration: 2/100, moves: 632, cost: 90712.0\n",
      "Run 5, iteration: 3/100, moves: 329, cost: 90511.0\n",
      "Run 5, iteration: 4/100, moves: 19, cost: 90510.0\n",
      "Run 5, iteration: 5/100, moves: 0, cost: 90510.0\n",
      "Init: initializing centroids\n",
      "Init: initializing clusters\n",
      "Starting iterations...\n",
      "Run 6, iteration: 1/100, moves: 2429, cost: 88990.0\n",
      "Run 6, iteration: 2/100, moves: 439, cost: 88986.0\n",
      "Run 6, iteration: 3/100, moves: 1, cost: 88986.0\n",
      "Init: initializing centroids\n",
      "Init: initializing clusters\n",
      "Starting iterations...\n",
      "Run 7, iteration: 1/100, moves: 3410, cost: 88498.0\n",
      "Run 7, iteration: 2/100, moves: 1149, cost: 87970.0\n",
      "Run 7, iteration: 3/100, moves: 131, cost: 87970.0\n",
      "Init: initializing centroids\n",
      "Init: initializing clusters\n",
      "Starting iterations...\n",
      "Run 8, iteration: 1/100, moves: 2451, cost: 89542.0\n",
      "Run 8, iteration: 2/100, moves: 895, cost: 88855.0\n",
      "Run 8, iteration: 3/100, moves: 537, cost: 88652.0\n",
      "Run 8, iteration: 4/100, moves: 162, cost: 88652.0\n",
      "Init: initializing centroids\n",
      "Init: initializing clusters\n",
      "Starting iterations...\n",
      "Run 9, iteration: 1/100, moves: 2865, cost: 89485.0\n",
      "Run 9, iteration: 2/100, moves: 136, cost: 89480.0\n",
      "Run 9, iteration: 3/100, moves: 2, cost: 89480.0\n",
      "Init: initializing centroids\n",
      "Init: initializing clusters\n",
      "Starting iterations...\n",
      "Run 10, iteration: 1/100, moves: 939, cost: 89995.0\n",
      "Run 10, iteration: 2/100, moves: 677, cost: 89217.0\n",
      "Run 10, iteration: 3/100, moves: 380, cost: 89183.0\n",
      "Run 10, iteration: 4/100, moves: 13, cost: 89183.0\n",
      "Best run was number 7\n",
      "[0 4 3 ... 1 2 0]\n"
     ]
    }
   ],
   "source": [
    "km = KModes(n_clusters=5, init='Huang', n_init=10, verbose=1)\n",
    "\n",
    "clusters = km.fit_predict(Ofcom_norm)\n",
    "\n",
    "# Print the cluster centroids\n",
    "print(clusters)"
   ]
  },
  {
   "cell_type": "code",
   "execution_count": 10,
   "id": "7118e129",
   "metadata": {},
   "outputs": [],
   "source": [
    "Clusters = pd.DataFrame((clusters), columns = ['Clusters'])\n",
    "Clusters['OA11CD'] = Ofcom['OA11CD']"
   ]
  },
  {
   "cell_type": "code",
   "execution_count": 11,
   "id": "8cdb199c",
   "metadata": {},
   "outputs": [],
   "source": [
    "DigEx = Clusters.groupby('OA11CD').mean()"
   ]
  },
  {
   "cell_type": "code",
   "execution_count": 12,
   "id": "bfe40cb6",
   "metadata": {},
   "outputs": [],
   "source": [
    "df_places = df_places.merge(DigEx, on = ['OA11CD'], how = 'outer')\n",
    "df_places[['Clusters']] = df_places[['Clusters']].fillna(value = 0)"
   ]
  },
  {
   "cell_type": "code",
   "execution_count": 13,
   "id": "a45a0423",
   "metadata": {},
   "outputs": [
    {
     "data": {
      "image/png": "[encoded data removed]",
      "text/plain": [
       "<Figure size 432x288 with 2 Axes>"
      ]
     },
     "metadata": {
      "needs_background": "light"
     },
     "output_type": "display_data"
    }
   ],
   "source": [
    "df_places.plot(column = 'Clusters', legend = True)\n",
    "plt.title('Mean Class Assigned by K-Mode Clustering \\n  by 2011 Census Output Areas')\n",
    "plt.xlabel('Latitude')\n",
    "plt.ylabel('Longitude')\n",
    "plt.savefig('Ofcom_Exclusion_loc.png', dpi = 600)"
   ]
  },
  {
   "cell_type": "code",
   "execution_count": 14,
   "id": "47bc6cd2",
   "metadata": {},
   "outputs": [
    {
     "name": "stdout",
     "output_type": "stream",
     "text": [
      "Females aged 85-89       1.0\n",
      "Females aged under 25    1.0\n",
      "Males aged 45-65         1.0\n",
      "Females aged 100+        1.0\n",
      "Males aged 85-89         1.0\n",
      "Females aged 65+         1.0\n",
      "Females aged 45-65       1.0\n",
      "Males aged 80-84         1.0\n",
      "Males aged 25-44         1.0\n",
      "Population aged 65+      1.0\n",
      "Males aged 90-94         1.0\n",
      "Males aged 95-99         1.0\n",
      "Females aged 75-79       1.0\n",
      "Females aged 90-94       1.0\n",
      "Males aged 70-74         1.0\n",
      "Females aged 70-74       1.0\n",
      "Median Income            1.0\n",
      "Males aged 65+           1.0\n",
      "Females aged 25-44       1.0\n",
      "Males aged 65-69         1.0\n",
      "Females aged 65-69       1.0\n",
      "Males aged 75-79         1.0\n",
      "Males aged under 25      1.0\n",
      "Mode Income              1.0\n",
      "Lower Quartile           1.0\n",
      "Females aged 80-84       1.0\n",
      "Females aged 95_99       1.0\n",
      "Males aged 100+          1.0\n",
      "Mean Income              1.0\n",
      "dtype: float64\n",
      "  Target  Population aged 65+  Females aged 65-69  Females aged 65+  \\\n",
      "0      0                  4.0                 1.0               2.0   \n",
      "1      0                  1.0                 0.0               1.0   \n",
      "2      0                  0.0                 0.0               0.0   \n",
      "3      0                  0.0                 0.0               0.0   \n",
      "4      0                  8.0                 1.0               4.0   \n",
      "\n",
      "   Females aged 70-74  Females aged 75-79  Females aged 80-84  \\\n",
      "0                 1.0                 0.0                 0.0   \n",
      "1                 0.0                 0.0                 0.0   \n",
      "2                 0.0                 0.0                 0.0   \n",
      "3                 0.0                 0.0                 0.0   \n",
      "4                 1.0                 1.0                 1.0   \n",
      "\n",
      "   Females aged 85-89  Females aged 90-94  Females aged 95_99  ...  \\\n",
      "0                 0.0                 0.0                 0.0  ...   \n",
      "1                 0.0                 0.0                 0.0  ...   \n",
      "2                 0.0                 0.0                 0.0  ...   \n",
      "3                 0.0                 0.0                 0.0  ...   \n",
      "4                 0.0                 0.0                 0.0  ...   \n",
      "\n",
      "   Females aged 25-44  Females aged 45-65  Males aged under 25  \\\n",
      "0                 4.0                 4.0                  2.0   \n",
      "1                 3.0                 0.0                  1.0   \n",
      "2                 0.0                 0.0                  0.0   \n",
      "3                 0.0                 0.0                  0.0   \n",
      "4                 9.0                 6.0                  4.0   \n",
      "\n",
      "   Males aged 25-44  Males aged 45-65  Mean Income  Median Income  \\\n",
      "0               4.0               4.0      62900.0    60000.00000   \n",
      "1               3.0               3.0      88200.0    67500.00000   \n",
      "2               1.0               0.0      32100.0    32000.00000   \n",
      "3               2.0               0.0      88200.0    82142.85714   \n",
      "4              10.0               6.0      36200.0    35000.00000   \n",
      "\n",
      "   Mode Income  Lower Quartile     OA11CD  \n",
      "0     110000.0     25000.00000  E00024109  \n",
      "1     110000.0     40000.00000  E00023827  \n",
      "2      17500.0     18461.53846  E00024113  \n",
      "3      32500.0     58000.00000  E00024133  \n",
      "4      17500.0     15000.00000  E00023617  \n",
      "\n",
      "[5 rows x 31 columns]\n"
     ]
    }
   ],
   "source": [
    "centroids = pd.DataFrame(km.cluster_centroids_, columns = Ofcom.columns)\n",
    "centroids[cont] = centroids[cont].apply(pd.to_numeric)\n",
    "print(Ofcom[cont].max())\n",
    "centroids[cont] = centroids[cont].mul(maxi, axis = 1)\n",
    "print(centroids)"
   ]
  },
  {
   "cell_type": "code",
   "execution_count": 15,
   "id": "a3474ccc",
   "metadata": {},
   "outputs": [
    {
     "name": "stdout",
     "output_type": "stream",
     "text": [
      "Females aged 85-89       1.0\n",
      "Females aged under 25    1.0\n",
      "Males aged 45-65         1.0\n",
      "Females aged 100+        1.0\n",
      "Males aged 85-89         1.0\n",
      "Females aged 65+         1.0\n",
      "Females aged 45-65       1.0\n",
      "Males aged 80-84         1.0\n",
      "Males aged 25-44         1.0\n",
      "Population aged 65+      1.0\n",
      "Males aged 90-94         1.0\n",
      "Males aged 95-99         1.0\n",
      "Females aged 75-79       1.0\n",
      "Females aged 90-94       1.0\n",
      "Males aged 70-74         1.0\n",
      "Females aged 70-74       1.0\n",
      "Median Income            1.0\n",
      "Males aged 65+           1.0\n",
      "Females aged 25-44       1.0\n",
      "Males aged 65-69         1.0\n",
      "Females aged 65-69       1.0\n",
      "Males aged 75-79         1.0\n",
      "Males aged under 25      1.0\n",
      "Mode Income              1.0\n",
      "Lower Quartile           1.0\n",
      "Females aged 80-84       1.0\n",
      "Females aged 95_99       1.0\n",
      "Males aged 100+          1.0\n",
      "Mean Income              1.0\n",
      "dtype: float64\n"
     ]
    }
   ],
   "source": [
    "Ofcom_Cluster = Ofcom\n",
    "Ofcom_Cluster['Clusters'] = clusters\n",
    "Ofcom_Cluster[cont] = Ofcom_Cluster[cont].apply(pd.to_numeric)\n",
    "print(Ofcom[cont].max())\n",
    "Ofcom_Cluster[cont] = Ofcom_Cluster[cont].mul(maxi, axis = 1)"
   ]
  },
  {
   "cell_type": "code",
   "execution_count": null,
   "id": "4894169b",
   "metadata": {},
   "outputs": [],
   "source": [
    "wb = Workbook()\n",
    "wb.save(filename = os.path.join('ofcom_k-modes.xlsx'))\n",
    "\n",
    "for i in range(0,5):\n",
    "    df = Ofcom_Cluster.loc[Ofcom_Cluster['Clusters'] == i]\n",
    "    with pd.ExcelWriter(os.path.join( 'ofcom_k-modes.xlsx'), engine=\"openpyxl\", mode = 'a') as writer:\n",
    "        df.to_excel(writer, sheet_name = 'cluster %s'%i)\n",
    "       "
   ]
  },
  {
   "cell_type": "code",
   "execution_count": null,
   "id": "3a1bd0ce",
   "metadata": {},
   "outputs": [],
   "source": [
    "imputed['OA11CD'] = WCC_Mob['OutputArea']\n",
    "\n",
    "imputed = imputed.dropna(axis = 0)\n",
    "print(imputed)"
   ]
  },
  {
   "cell_type": "code",
   "execution_count": null,
   "id": "a162cd8e",
   "metadata": {},
   "outputs": [],
   "source": [
    "df_places.plot(column = 'Clusters')"
   ]
  },
  {
   "cell_type": "code",
   "execution_count": null,
   "id": "27f7fe4b",
   "metadata": {},
   "outputs": [],
   "source": [
    "Clusters = pd.DataFrame((clusters+1), columns = ['Clusters'])\n",
    "print(Clusters)"
   ]
  },
  {
   "cell_type": "code",
   "execution_count": null,
   "id": "7f6e0e37",
   "metadata": {},
   "outputs": [],
   "source": [
    "Clusters= Clusters.fillna(value = 0)"
   ]
  },
  {
   "cell_type": "code",
   "execution_count": null,
   "id": "7c8f87aa",
   "metadata": {},
   "outputs": [],
   "source": [
    "Clusters['OA11CD'] = WCC_Mob['OutputArea']\n",
    "print(Clusters)"
   ]
  },
  {
   "cell_type": "code",
   "execution_count": null,
   "id": "c640a39d",
   "metadata": {},
   "outputs": [],
   "source": [
    "DigEx = Clusters.groupby('OA11CD').mean()"
   ]
  },
  {
   "cell_type": "code",
   "execution_count": null,
   "id": "1186f213",
   "metadata": {},
   "outputs": [],
   "source": [
    "df_places = df_places.merge(DigEx, on = ['OA11CD'], how = 'outer')\n",
    "df_places[['Clusters']] = df_places[['Clusters']].fillna(value = 0)"
   ]
  },
  {
   "cell_type": "code",
   "execution_count": null,
   "id": "881364dd",
   "metadata": {},
   "outputs": [],
   "source": [
    "df_places.plot(column = 'Clusters')"
   ]
  },
  {
   "cell_type": "code",
   "execution_count": null,
   "id": "135e263c",
   "metadata": {},
   "outputs": [],
   "source": [
    "WCC_Mob = pd.read_csv(os.path.join(_preprocesseddir, 'WCC_total_final_no_loc.csv')\n",
    "WCC_Mob['OA11CD']=WCC_Mob['OutputArea']\n",
    "print(WCC_Mob.head)\n",
    "DigEx = WCC_Mob.groupby('OA11CD').mean()\n",
    "DigEx.to_csv('Mob Exclusion OA.csv')"
   ]
  },
  {
   "cell_type": "code",
   "execution_count": null,
   "id": "f5f44259",
   "metadata": {},
   "outputs": [],
   "source": []
  },
  {
   "cell_type": "code",
   "execution_count": null,
   "id": "82ccd69a",
   "metadata": {},
   "outputs": [],
   "source": [
    "df_places = df_places.merge(DigEx, on = ['OA11CD'], how = 'outer')\n",
    "print(df_places)"
   ]
  },
  {
   "cell_type": "code",
   "execution_count": null,
   "id": "c21ff122",
   "metadata": {},
   "outputs": [],
   "source": [
    "plt.figure()\n",
    "df_places.plot()\n",
    "df_places.plot(column = 'Target', legend = True, missing_kwds={\n",
    "  \"color\": \"lightgrey\",\n",
    "  \"label\": \"Missing values\",\n",
    "})\n",
    "plt.title('Mean Mobile Exclusion Across \\n 2011 Census Output Areas')\n",
    "plt.xlabel('Latitude')\n",
    "plt.ylabel('Longitude')\n",
    "plt.savefig('Mobile_Exclusion_loc.png', dpi = 600)"
   ]
  },
  {
   "cell_type": "code",
   "execution_count": null,
   "id": "4ca03aa6",
   "metadata": {},
   "outputs": [],
   "source": [
    "Cluster_1 = pd.read_excel('ofcom_k-modes.xlsx', sheet_name = 'cluster 1')\n",
    "Cluster_0 = pd.read_excel('ofcom_k-modes.xlsx', sheet_name = 'cluster 0')\n",
    "Cluster_2 = pd.read_excel('ofcom_k-modes.xlsx', sheet_name = 'cluster 2')\n",
    "Cluster_3 = pd.read_excel('ofcom_k-modes.xlsx', sheet_name = 'cluster 3')\n",
    "Cluster_4 = pd.read_excel('ofcom_k-modes.xlsx', sheet_name = 'cluster 4')\n"
   ]
  },
  {
   "cell_type": "code",
   "execution_count": null,
   "id": "7cce9ef1",
   "metadata": {},
   "outputs": [],
   "source": [
    "Cluster_1 = Cluster_1.drop('Unnamed:0', axis = 1)\n",
    "Cluster_2 = Cluster_2.drop('Unnamed:0', axis = 1)\n",
    "Cluster_3 = Cluster_3.drop('Unnamed:0', axis = 1)\n",
    "Cluster_4 = Cluster_4.drop('Unnamed:0', axis = 1)\n",
    "Cluster_0 = Cluster_0.drop('Unnamed:0', axis = 1)"
   ]
  },
  {
   "cell_type": "code",
   "execution_count": null,
   "id": "1cbcd905",
   "metadata": {},
   "outputs": [],
   "source": [
    "wb = Workbook()\n",
    "wb.save(filename = os.path.join('ofcom_k-modes_description.xlsx'))\n",
    "cluster = [Cluster_0,Cluster_1,Cluster_2,Cluster_3,Cluster_4]\n",
    "for i in cluster: \n",
    "    j = 0\n",
    "    df = i.describe()\n",
    "    with pd.ExcelWriter(os.path.join( 'ofcom_k-modes_description.xlsx'), engine=\"openpyxl\", mode = 'a') as writer:\n",
    "        df.to_excel(writer, sheet_name = 'cluster %s'%j)\n",
    "    j+=1"
   ]
  },
  {
   "cell_type": "code",
   "execution_count": 128,
   "id": "a524b814",
   "metadata": {},
   "outputs": [],
   "source": [
    "cluster_descript0 = Cluster_0.describe()\n",
    "cluster_descript1 = Cluster_1.describe()\n",
    "cluster_descript2 = Cluster_2.describe()\n",
    "cluster_descript3 = Cluster_3.describe()\n",
    "cluster_descript4 = Cluster_4.describe()\n",
    "descript = [cluster_descript0,cluster_descript1,cluster_descript2,cluster_descript3,cluster_descript4]"
   ]
  },
  {
   "cell_type": "code",
   "execution_count": 129,
   "id": "b3426f8b",
   "metadata": {},
   "outputs": [
    {
     "name": "stdout",
     "output_type": "stream",
     "text": [
      "[0.08881789] [5.33108095e+09]\n",
      "[0.28457164]\n",
      "[0.08881789 0.11769172] [5.33108095e+09 5.05861897e+09]\n",
      "[0.28457164 0.32236515]\n",
      "[0.08881789 0.11769172 0.03555556] [5.33108095e+09 5.05861897e+09 4.57863413e+09]\n",
      "[0.28457164 0.32236515 0.18523807]\n",
      "[0.08881789 0.11769172 0.03555556 0.18059856] [5.33108095e+09 5.05861897e+09 4.57863413e+09 4.10200034e+09]\n",
      "[0.28457164 0.32236515 0.18523807 0.3847845 ]\n",
      "[0.08881789 0.11769172 0.03555556 0.18059856 0.18835616] [5.33108095e+09 5.05861897e+09 4.57863413e+09 4.10200034e+09\n",
      " 6.28692986e+09]\n",
      "[0.28457164 0.32236515 0.18523807 0.3847845  0.39113029]\n"
     ]
    }
   ],
   "source": [
    "Target = np.array([])\n",
    "Target_std = np.array([])\n",
    "Wage = np.array([])\n",
    "Wage_std = np.array([])\n",
    "old = np.array([])\n",
    "old_std = np.array([])\n",
    "\n",
    "for item in descript:\n",
    "    Target = np.append(Target, item.loc['mean','Target'])\n",
    "    Target_std = np.append(Target_std, item.loc['std','Target'])\n",
    "    Wage = np.append(Wage, item.loc['mean','Mean Income'])\n",
    "    Wage_std = np.append(Wage_std, item.loc['std','Mean Income'])\n",
    "    old = np.append(old, item.loc['mean', 'Population aged 65+'])\n",
    "    old_std = np.append(old_std, item.loc['std', 'Population aged 65+'])\n",
    "\n",
    "    print(Target, Wage)\n",
    "    print(Target_std)\n",
    "    \n",
    "    "
   ]
  },
  {
   "cell_type": "code",
   "execution_count": 130,
   "id": "fecb315a",
   "metadata": {},
   "outputs": [
    {
     "name": "stdout",
     "output_type": "stream",
     "text": [
      "(5,)\n",
      "(5,)\n"
     ]
    }
   ],
   "source": [
    "print(np.shape(Target))\n",
    "print(np.shape(Wage))"
   ]
  },
  {
   "cell_type": "code",
   "execution_count": 131,
   "id": "5a14b5d0",
   "metadata": {},
   "outputs": [
    {
     "data": {
      "image/png": "[encoded data removed]",
      "text/plain": [
       "<Figure size 432x288 with 1 Axes>"
      ]
     },
     "metadata": {
      "needs_background": "light"
     },
     "output_type": "display_data"
    },
    {
     "data": {
      "text/plain": [
       "<Figure size 432x288 with 0 Axes>"
      ]
     },
     "metadata": {},
     "output_type": "display_data"
    }
   ],
   "source": [
    "plt.figure()\n",
    "for item in descript:\n",
    "    plt.errorbar(item.loc['mean','Target'],item.loc['mean','Mean Income'],xerr = item.loc['std','Target'],yerr =item.loc['std','Mean Income'] )\n",
    "plt.legend(['Cluster 0','Cluster 1','Cluster 2','Cluster 3','Cluster 4'])\n",
    "plt.xlabel('Mean Rate of Digital Exclusion')\n",
    "plt.ylabel('Mean Income, £')\n",
    "plt.title('Digital Exclusion vs Mean Income per Cluster')\n",
    "plt.show()\n",
    "plt.savefig('Income.png', dpi = 600)"
   ]
  },
  {
   "cell_type": "code",
   "execution_count": 132,
   "id": "014accd9",
   "metadata": {},
   "outputs": [
    {
     "data": {
      "image/png": "[encoded data removed]",
      "text/plain": [
       "<Figure size 432x288 with 1 Axes>"
      ]
     },
     "metadata": {
      "needs_background": "light"
     },
     "output_type": "display_data"
    },
    {
     "data": {
      "text/plain": [
       "<Figure size 432x288 with 0 Axes>"
      ]
     },
     "metadata": {},
     "output_type": "display_data"
    }
   ],
   "source": [
    "plt.figure()\n",
    "for item in descript:\n",
    "    plt.errorbar(item.loc['mean','Target'],item.loc['mean','Population aged 65+'],xerr = item.loc['std','Target'],yerr =item.loc['std','Population aged 65+'] )\n",
    "plt.legend(['Cluster 0','Cluster 1','Cluster 2','Cluster 3','Cluster 4'])\n",
    "plt.xlabel('Mean Rate of Digital Exclusion')\n",
    "plt.ylabel('Mean Number of Individuals Aged 65+')\n",
    "plt.title('Digital Exclusion vs Mean Income per Cluster')\n",
    "plt.show()\n",
    "plt.savefig('Income.png', dpi = 600)"
   ]
  },
  {
   "cell_type": "code",
   "execution_count": null,
   "id": "e55359dd",
   "metadata": {},
   "outputs": [],
   "source": []
  }
 ],
 "metadata": {
  "kernelspec": {
   "display_name": "Python 3",
   "language": "python",
   "name": "python3"
  },
  "language_info": {
   "codemirror_mode": {
    "name": "ipython",
    "version": 3
   },
   "file_extension": ".py",
   "mimetype": "text/x-python",
   "name": "python",
   "nbconvert_exporter": "python",
   "pygments_lexer": "ipython3",
   "version": "3.8.10"
  }
 },
 "nbformat": 4,
 "nbformat_minor": 5
}
