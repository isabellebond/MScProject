{
 "cells": [
  {
   "cell_type": "code",
   "execution_count": 5,
   "metadata": {},
   "outputs": [],
   "source": [
    "import pandas as pd\n",
    "import os\n",
    "import numpy as np\n",
    "import sklearn\n",
    "import dataFuncs\n",
    "\n",
    "#Initialise repositories\n",
    "_projroot = os.path.abspath('.')\n",
    "_datadir = os.path.join(_projroot,'data')\n",
    "_preprocesseddir = os.path.join(_datadir,'preprocesseddata')\n",
    "_rawdir = os.path.join(_datadir,'rawdata')"
   ]
  },
  {
   "cell_type": "code",
   "execution_count": 11,
   "metadata": {},
   "outputs": [],
   "source": [
    "#Create datasets\n",
    "from sklearn.model_selection import train_test_split\n",
    "\n",
    "WCC_Survey = pd.read_csv(os.path.join(_preprocesseddir,'WCCSurvey_mobile.csv'))\n",
    "WCC_Survey = WCC_Survey.dropna()\n",
    "WCC_Survey = WCC_Survey.drop('Unnamed: 0', axis = 1)\n",
    "WCC_Survey = WCC_Survey.drop('case', axis = 1)"
   ]
  },
  {
   "cell_type": "code",
   "execution_count": null,
   "metadata": {},
   "outputs": [],
   "source": []
  }
 ],
 "metadata": {
  "kernelspec": {
   "display_name": "Python 3",
   "language": "python",
   "name": "python3"
  },
  "language_info": {
   "codemirror_mode": {
    "name": "ipython",
    "version": 3
   },
   "file_extension": ".py",
   "mimetype": "text/x-python",
   "name": "python",
   "nbconvert_exporter": "python",
   "pygments_lexer": "ipython3",
   "version": "3.8.5"
  }
 },
 "nbformat": 4,
 "nbformat_minor": 4
}
