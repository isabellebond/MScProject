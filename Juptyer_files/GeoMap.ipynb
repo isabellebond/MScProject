{
 "cells": [
  {
   "cell_type": "code",
   "execution_count": 72,
   "id": "b6d3bab7",
   "metadata": {},
   "outputs": [],
   "source": [
    "import pandas as pd\n",
    "import os\n",
    "import numpy as np\n",
    "import sklearn\n",
    "import dataFuncs\n",
    "import matplotlib.pyplot as plt\n",
    "import json \n",
    "\n",
    "#Initialise repositories\n",
    "_projroot = os.path.abspath('.')\n",
    "_datadir = os.path.join(_projroot,'data')\n",
    "_preprocesseddir = os.path.join(_datadir,'preprocesseddata')\n",
    "_rawdir = os.path.join(_datadir,'rawdata')\n",
    "_geodir = os.path.join(_datadir,'geodata')"
   ]
  },
  {
   "cell_type": "code",
   "execution_count": 73,
   "id": "37e793d8",
   "metadata": {},
   "outputs": [],
   "source": [
    "#Create datasets\n",
    "from sklearn.model_selection import train_test_split\n",
    "\n",
    "WCC_Survey = pd.read_csv(os.path.join(_preprocesseddir,'WCC_mobile.csv'))\n",
    "WCC_Survey = WCC_Survey.dropna()\n",
    "WCC_Survey = WCC_Survey.drop('Unnamed: 0', axis = 1)\n",
    "WCC_Survey = WCC_Survey.drop('Q26j', axis = 1)\n",
    "\n",
    "\n",
    "\n",
    "WCC_Survey_Features = WCC_Survey.drop('Target', axis = 1)"
   ]
  },
  {
   "cell_type": "code",
   "execution_count": 74,
   "id": "30bab76f",
   "metadata": {},
   "outputs": [],
   "source": [
    "#Load json dictionary\n",
    "\n",
    "with open(os.path.join(_preprocesseddir,'WCC_mobile.json')) as f:\n",
    "    ref = json.load(f)\n",
    "    \n",
    "ref['OutputArea'] = {v: k for k, v in ref['OutputArea'].items()}"
   ]
  },
  {
   "cell_type": "code",
   "execution_count": 75,
   "id": "5cb1dfdd",
   "metadata": {},
   "outputs": [
    {
     "name": "stdout",
     "output_type": "stream",
     "text": [
      "0       E00024058\n",
      "1       E00024058\n",
      "2       E00024058\n",
      "3       E00024058\n",
      "4       E00024058\n",
      "          ...    \n",
      "1033          NaN\n",
      "1034    E00023699\n",
      "1035    E00023956\n",
      "1036    E00023956\n",
      "1037          NaN\n",
      "Name: OutputArea, Length: 1004, dtype: object\n",
      "4       E00024058\n",
      "5       E00024058\n",
      "42      E00023672\n",
      "59      E00175265\n",
      "61      E00175272\n",
      "          ...    \n",
      "995     E00024134\n",
      "1001    E00175259\n",
      "1002    E00175259\n",
      "1005    E00175259\n",
      "1020    E00024137\n",
      "Name: OutputArea, Length: 139, dtype: object\n"
     ]
    }
   ],
   "source": [
    "#Convert postcode values in WCC_Survey to postcode using dict\n",
    "\n",
    "OA = []\n",
    "\n",
    "for item in WCC_Survey['OutputArea']:\n",
    "    OA.append(ref['OutputArea'][(item)])\n",
    "\n",
    "WCC_Survey['OutputArea'] = OA\n",
    "print(WCC_Survey['OutputArea'])\n",
    "#Separate digitally excluded and non-excluded\n",
    "WCC_Survey_1 = WCC_Survey[WCC_Survey['Target'] == 1]\n",
    "WCC_Survey_0 = WCC_Survey[WCC_Survey['Target'] == 0]\n",
    "\n",
    "print(WCC_Survey_1['OutputArea'])"
   ]
  },
  {
   "cell_type": "code",
   "execution_count": 55,
   "id": "abede668",
   "metadata": {},
   "outputs": [],
   "source": [
    "#Load output aread data and creat dictionary for postcode, only for ofcom data\n",
    "\n",
    "#OA = pd.read_csv(os.path.join(_geodir,'postcode_OA.csv'), index_col = 'pcd')\n",
    "#OA = OA.drop('Unnamed: 0', axis = 1)\n",
    "#OA = OA.to_dict()\n",
    "#print(OA)"
   ]
  },
  {
   "cell_type": "code",
   "execution_count": 56,
   "id": "6932b7d2",
   "metadata": {},
   "outputs": [],
   "source": [
    "#Create new dataset with OAs\n",
    "#Output_Area = []\n",
    "\n",
    "#for item in WCC_Survey['Postcode_clean']:\n",
    " #   Output_Area.append(OA[item])\n",
    "\n",
    "#WCC_Survey['Output Area'] = Output_Area\n",
    "#print(WCC_Survey['Outpus Area'])\n"
   ]
  },
  {
   "cell_type": "code",
   "execution_count": 87,
   "id": "409b4c4d",
   "metadata": {},
   "outputs": [
    {
     "name": "stdout",
     "output_type": "stream",
     "text": [
      "          OA  Not Excluded\n",
      "0  E00024058             6\n",
      "1  E00023634             6\n",
      "2  E00023631             6\n",
      "3  E00023629             1\n",
      "4  E00023628             2            OA  Excluded\n",
      "0   E00024058         2\n",
      "1   E00023672         1\n",
      "2   E00175265         1\n",
      "3   E00175272         1\n",
      "4   E00023459         1\n",
      "..        ...       ...\n",
      "76  E00024077         1\n",
      "77  E00023991         1\n",
      "78  E00024134         1\n",
      "79  E00175259         3\n",
      "80  E00024137         1\n",
      "\n",
      "[81 rows x 2 columns]\n"
     ]
    },
    {
     "data": {
      "text/plain": [
       "<Figure size 1296x1296 with 0 Axes>"
      ]
     },
     "metadata": {},
     "output_type": "display_data"
    }
   ],
   "source": [
    "# Generate scatter plot of independent vs Dependent variable\n",
    "fig = plt.figure(figsize = (18, 18))\n",
    "from collections import Counter\n",
    "\n",
    "exclusion = Counter(WCC_Survey_1[\"OutputArea\"])\n",
    "no_exclusion = Counter(WCC_Survey_0[\"OutputArea\"])\n",
    "\n",
    "#Create dataset of perc, digitally ecluded in each OA\n",
    "ex = pd.DataFrame(exclusion.items(), columns = ['OA',\"Excluded\"])\n",
    "no = pd.DataFrame(no_exclusion.items(), columns = ['OA',\"Not Excluded\"])\n",
    "\n",
    "print(no.head(),ex)\n"
   ]
  },
  {
   "cell_type": "code",
   "execution_count": 88,
   "id": "8982cecb",
   "metadata": {},
   "outputs": [
    {
     "name": "stdout",
     "output_type": "stream",
     "text": [
      "            OA  Excluded  Not Excluded  % excluded\n",
      "0    E00024058       2.0           6.0   25.000000\n",
      "1    E00023672       1.0           7.0   12.500000\n",
      "2    E00175265       1.0           3.0   25.000000\n",
      "3    E00175272       1.0           3.0   25.000000\n",
      "4    E00023459       1.0           5.0   16.666667\n",
      "..         ...       ...           ...         ...\n",
      "195  E00023782       0.0           8.0    0.000000\n",
      "196  E00023825       0.0           6.0    0.000000\n",
      "197  E00023734       0.0           8.0    0.000000\n",
      "198  E00023676       0.0           5.0    0.000000\n",
      "199  E00023675       0.0           2.0    0.000000\n",
      "\n",
      "[200 rows x 4 columns]\n"
     ]
    }
   ],
   "source": [
    "tot = pd.merge(ex, no,how = 'outer',on = \"OA\").fillna(0)\n",
    "tot['% excluded'] = (tot['Excluded']/(tot['Excluded']+tot['Not Excluded']))*100\n",
    "print(tot)"
   ]
  },
  {
   "cell_type": "code",
   "execution_count": null,
   "id": "2e56e306",
   "metadata": {},
   "outputs": [],
   "source": [
    "#Try to load map\n",
    "\n",
    "with open(os.path.join(_geodir,'Westminster.geojson')) as f:\n",
    "    OAs = json.load(f)\n",
    "\n",
    "#With Plotly\n",
    "import plotly.express as px\n",
    "from geojson_rewind import rewind\n",
    "\n",
    "#Make the rings clockwwise (to make it compatible with plotly)    \n",
    "counties_corrected=rewind(counties,rfc7946=False)\n",
    "\n",
    "fig = px.choropleth(data, geojson=counties_corrected, locations='nuts218cd', featureidkey=\"properties.nuts218cd\", color='value',\n",
    "                            color_continuous_scale=\"PurPor\", labels={'label name':'label name'}, title='MAP TITLE',\n",
    "                            scope=\"europe\")\n",
    "\n",
    "fig.update_geos(fitbounds=\"locations\", visible=False)    "
   ]
  }
 ],
 "metadata": {
  "kernelspec": {
   "display_name": "Python 3",
   "language": "python",
   "name": "python3"
  },
  "language_info": {
   "codemirror_mode": {
    "name": "ipython",
    "version": 3
   },
   "file_extension": ".py",
   "mimetype": "text/x-python",
   "name": "python",
   "nbconvert_exporter": "python",
   "pygments_lexer": "ipython3",
   "version": "3.8.8"
  }
 },
 "nbformat": 4,
 "nbformat_minor": 5
}
