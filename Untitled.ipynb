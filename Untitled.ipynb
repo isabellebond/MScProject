{
 "cells": [
  {
   "cell_type": "code",
   "execution_count": 1,
   "id": "5e02c260",
   "metadata": {},
   "outputs": [],
   "source": [
    "import numpy as np\n",
    "import pandas as pd"
   ]
  },
  {
   "cell_type": "code",
   "execution_count": 2,
   "id": "ecba42e7",
   "metadata": {},
   "outputs": [],
   "source": [
    "#Import pickle files\n",
    "#k max is max number of classifiers added to adaboost\n",
    "#W_1(i) is the error associated with the ith sample in classifier 1\n",
    "#Pick weak classifier with smallest error"
   ]
  },
  {
   "cell_type": "code",
   "execution_count": 3,
   "id": "845042a5",
   "metadata": {},
   "outputs": [],
   "source": [
    "#fit data and find error"
   ]
  },
  {
   "cell_type": "code",
   "execution_count": null,
   "id": "0f6391b6",
   "metadata": {},
   "outputs": [],
   "source": [
    "y_pred = 1\n",
    "y_target = 1\n",
    "\n",
    "for j in range(0, k_max):\n",
    "    error = 0\n",
    "    for i in range(0, len(y_target)):\n",
    "        error = error + W[j]*np.abs(y_target[i]-y_pred[i])\n",
    "        \n",
    "        \n",
    "    "
   ]
  }
 ],
 "metadata": {
  "kernelspec": {
   "display_name": "Python 3",
   "language": "python",
   "name": "python3"
  },
  "language_info": {
   "codemirror_mode": {
    "name": "ipython",
    "version": 3
   },
   "file_extension": ".py",
   "mimetype": "text/x-python",
   "name": "python",
   "nbconvert_exporter": "python",
   "pygments_lexer": "ipython3",
   "version": "3.8.10"
  }
 },
 "nbformat": 4,
 "nbformat_minor": 5
}
